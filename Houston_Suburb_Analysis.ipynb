{
  "nbformat": 4,
  "nbformat_minor": 0,
  "metadata": {
    "kernelspec": {
      "display_name": "Python 3",
      "language": "python",
      "name": "python3"
    },
    "language_info": {
      "codemirror_mode": {
        "name": "ipython",
        "version": 3
      },
      "file_extension": ".py",
      "mimetype": "text/x-python",
      "name": "python",
      "nbconvert_exporter": "python",
      "pygments_lexer": "ipython3",
      "version": "3.7.4"
    },
    "colab": {
      "name": "Houston_Suburb_Analysis.ipynb",
      "provenance": [],
      "collapsed_sections": [],
      "toc_visible": true,
      "include_colab_link": true
    }
  },
  "cells": [
    {
      "cell_type": "markdown",
      "metadata": {
        "id": "view-in-github",
        "colab_type": "text"
      },
      "source": [
        "<a href=\"https://colab.research.google.com/github/Shohreh2017/Coursera_Capstone/blob/master/Houston_Suburb_Analysis.ipynb\" target=\"_parent\"><img src=\"https://colab.research.google.com/assets/colab-badge.svg\" alt=\"Open In Colab\"/></a>"
      ]
    },
    {
      "cell_type": "markdown",
      "metadata": {
        "id": "8cRoIGB2BqVw"
      },
      "source": [
        "# **A Guide to choose your Favorite Neighborhood in Houston (Texas)!**\n",
        "### **This code is the assignment related to IBM DataScience capstone project.** "
      ]
    },
    {
      "cell_type": "code",
      "metadata": {
        "id": "mTOUPmhmBqVy",
        "outputId": "5225819e-7c80-494d-9295-65d4c9af33e1",
        "colab": {
          "base_uri": "https://localhost:8080/",
          "height": 34
        }
      },
      "source": [
        "# I am Using google colab instead of my own machine application\n",
        "# importing the google.colab and mounting my google drive\n",
        "\n",
        "from google.colab import drive\n",
        "drive.mount('/content/drive')"
      ],
      "execution_count": 2,
      "outputs": [
        {
          "output_type": "stream",
          "text": [
            "Mounted at /content/drive\n"
          ],
          "name": "stdout"
        }
      ]
    },
    {
      "cell_type": "markdown",
      "metadata": {
        "id": "96r_7M1zNZnY"
      },
      "source": [
        "## Import the required libraries"
      ]
    },
    {
      "cell_type": "code",
      "metadata": {
        "id": "CKsqsbpvCa5W"
      },
      "source": [
        "import pandas as pd\n",
        "import numpy as np"
      ],
      "execution_count": 3,
      "outputs": []
    },
    {
      "cell_type": "markdown",
      "metadata": {
        "id": "xEafTjTmBqV1"
      },
      "source": [
        "# 1. Read the data files and store them in dataframe "
      ]
    },
    {
      "cell_type": "code",
      "metadata": {
        "id": "Cv93BbjSBqV2",
        "outputId": "04134777-a869-4793-f297-b94d8aaaaf5b",
        "colab": {
          "base_uri": "https://localhost:8080/",
          "height": 204
        }
      },
      "source": [
        "# Read the datasets and store them in a dataframe\n",
        "data_path='/content/drive/My Drive/Colab Notebooks/data'\n",
        "\n",
        "# read the texas zip code data\n",
        "texas_zipCodes=pd.read_csv(data_path+'/texas_City_lat_long.csv')\n",
        "\n",
        "# read Houston suburb city data\n",
        "HoustonSuburb_city = pd.read_csv(data_path+'/selected_suburb_cities.csv')\n",
        "\n",
        "# check out the dataframe \n",
        "texas_zipCodes.head()   "
      ],
      "execution_count": 4,
      "outputs": [
        {
          "output_type": "execute_result",
          "data": {
            "text/html": [
              "<div>\n",
              "<style scoped>\n",
              "    .dataframe tbody tr th:only-of-type {\n",
              "        vertical-align: middle;\n",
              "    }\n",
              "\n",
              "    .dataframe tbody tr th {\n",
              "        vertical-align: top;\n",
              "    }\n",
              "\n",
              "    .dataframe thead th {\n",
              "        text-align: right;\n",
              "    }\n",
              "</style>\n",
              "<table border=\"1\" class=\"dataframe\">\n",
              "  <thead>\n",
              "    <tr style=\"text-align: right;\">\n",
              "      <th></th>\n",
              "      <th>Zip</th>\n",
              "      <th>City</th>\n",
              "      <th>State</th>\n",
              "      <th>Latitude</th>\n",
              "      <th>Longitude</th>\n",
              "      <th>Timezone</th>\n",
              "      <th>Daylight savings time flag</th>\n",
              "      <th>geopoint</th>\n",
              "    </tr>\n",
              "  </thead>\n",
              "  <tbody>\n",
              "    <tr>\n",
              "      <th>0</th>\n",
              "      <td>75087</td>\n",
              "      <td>Rockwall</td>\n",
              "      <td>TX</td>\n",
              "      <td>32.933820</td>\n",
              "      <td>-96.454460</td>\n",
              "      <td>-6</td>\n",
              "      <td>1</td>\n",
              "      <td>32.933820</td>\n",
              "    </tr>\n",
              "    <tr>\n",
              "      <th>1</th>\n",
              "      <td>78879</td>\n",
              "      <td>Rio Frio</td>\n",
              "      <td>TX</td>\n",
              "      <td>29.628266</td>\n",
              "      <td>-99.738470</td>\n",
              "      <td>-6</td>\n",
              "      <td>1</td>\n",
              "      <td>29.628266</td>\n",
              "    </tr>\n",
              "    <tr>\n",
              "      <th>2</th>\n",
              "      <td>79789</td>\n",
              "      <td>Wink</td>\n",
              "      <td>TX</td>\n",
              "      <td>31.753101</td>\n",
              "      <td>-103.157370</td>\n",
              "      <td>-6</td>\n",
              "      <td>1</td>\n",
              "      <td>31.753101</td>\n",
              "    </tr>\n",
              "    <tr>\n",
              "      <th>3</th>\n",
              "      <td>75403</td>\n",
              "      <td>Greenville</td>\n",
              "      <td>TX</td>\n",
              "      <td>33.218505</td>\n",
              "      <td>-96.048665</td>\n",
              "      <td>-6</td>\n",
              "      <td>1</td>\n",
              "      <td>33.218505</td>\n",
              "    </tr>\n",
              "    <tr>\n",
              "      <th>4</th>\n",
              "      <td>78108</td>\n",
              "      <td>Cibolo</td>\n",
              "      <td>TX</td>\n",
              "      <td>29.574127</td>\n",
              "      <td>-98.233080</td>\n",
              "      <td>-6</td>\n",
              "      <td>1</td>\n",
              "      <td>29.574127</td>\n",
              "    </tr>\n",
              "  </tbody>\n",
              "</table>\n",
              "</div>"
            ],
            "text/plain": [
              "     Zip        City State  ...  Timezone  Daylight savings time flag   geopoint\n",
              "0  75087    Rockwall    TX  ...        -6                           1  32.933820\n",
              "1  78879    Rio Frio    TX  ...        -6                           1  29.628266\n",
              "2  79789        Wink    TX  ...        -6                           1  31.753101\n",
              "3  75403  Greenville    TX  ...        -6                           1  33.218505\n",
              "4  78108      Cibolo    TX  ...        -6                           1  29.574127\n",
              "\n",
              "[5 rows x 8 columns]"
            ]
          },
          "metadata": {
            "tags": []
          },
          "execution_count": 4
        }
      ]
    },
    {
      "cell_type": "code",
      "metadata": {
        "id": "noFFRn9IBqV5",
        "outputId": "7d338bb4-c298-4f5f-805b-374d32749fca",
        "colab": {
          "base_uri": "https://localhost:8080/",
          "height": 34
        }
      },
      "source": [
        "# check the dimension of the data frame\n",
        "print(texas_zipCodes.shape)"
      ],
      "execution_count": 5,
      "outputs": [
        {
          "output_type": "stream",
          "text": [
            "(2575, 8)\n"
          ],
          "name": "stdout"
        }
      ]
    },
    {
      "cell_type": "code",
      "metadata": {
        "id": "vIHx1z9NBqV8",
        "outputId": "abd9eae8-4999-434c-bd0c-44dbf687068f",
        "colab": {
          "base_uri": "https://localhost:8080/",
          "height": 328
        }
      },
      "source": [
        "# check the data frame for Houston and some of its suburbs\n",
        "HoustonSuburb_city[1:10]"
      ],
      "execution_count": 7,
      "outputs": [
        {
          "output_type": "execute_result",
          "data": {
            "text/html": [
              "<div>\n",
              "<style scoped>\n",
              "    .dataframe tbody tr th:only-of-type {\n",
              "        vertical-align: middle;\n",
              "    }\n",
              "\n",
              "    .dataframe tbody tr th {\n",
              "        vertical-align: top;\n",
              "    }\n",
              "\n",
              "    .dataframe thead th {\n",
              "        text-align: right;\n",
              "    }\n",
              "</style>\n",
              "<table border=\"1\" class=\"dataframe\">\n",
              "  <thead>\n",
              "    <tr style=\"text-align: right;\">\n",
              "      <th></th>\n",
              "      <th>City</th>\n",
              "    </tr>\n",
              "  </thead>\n",
              "  <tbody>\n",
              "    <tr>\n",
              "      <th>1</th>\n",
              "      <td>Pearland</td>\n",
              "    </tr>\n",
              "    <tr>\n",
              "      <th>2</th>\n",
              "      <td>Sugar Land</td>\n",
              "    </tr>\n",
              "    <tr>\n",
              "      <th>3</th>\n",
              "      <td>Spring</td>\n",
              "    </tr>\n",
              "    <tr>\n",
              "      <th>4</th>\n",
              "      <td>Missouri City</td>\n",
              "    </tr>\n",
              "    <tr>\n",
              "      <th>5</th>\n",
              "      <td>Atascocita</td>\n",
              "    </tr>\n",
              "    <tr>\n",
              "      <th>6</th>\n",
              "      <td>Bellaire</td>\n",
              "    </tr>\n",
              "    <tr>\n",
              "      <th>7</th>\n",
              "      <td>Humble</td>\n",
              "    </tr>\n",
              "    <tr>\n",
              "      <th>8</th>\n",
              "      <td>Katy</td>\n",
              "    </tr>\n",
              "    <tr>\n",
              "      <th>9</th>\n",
              "      <td>Tomball</td>\n",
              "    </tr>\n",
              "  </tbody>\n",
              "</table>\n",
              "</div>"
            ],
            "text/plain": [
              "            City\n",
              "1       Pearland\n",
              "2     Sugar Land\n",
              "3         Spring\n",
              "4  Missouri City\n",
              "5     Atascocita\n",
              "6       Bellaire\n",
              "7         Humble\n",
              "8           Katy\n",
              "9        Tomball"
            ]
          },
          "metadata": {
            "tags": []
          },
          "execution_count": 7
        }
      ]
    },
    {
      "cell_type": "markdown",
      "metadata": {
        "id": "k7i4ZSLyBqV_"
      },
      "source": [
        "## Clean up the dataframe And subset the texas cities to get only Houston and suburbs"
      ]
    },
    {
      "cell_type": "code",
      "metadata": {
        "id": "9iU6zr_QBqV_",
        "outputId": "fb3f5ffb-75ce-4092-b7c7-765a85c16817",
        "colab": {
          "base_uri": "https://localhost:8080/",
          "height": 419
        }
      },
      "source": [
        "# keep the important columns only\n",
        "texas_zipCodes=texas_zipCodes[['Zip','City','Latitude','Longitude']]\n",
        "\n",
        "# subset the texas cities to get only Houston and suburb zipcode, latitude and longitude\n",
        "Houston_suburb_list=HoustonSuburb_city['City'].tolist()\n",
        "Houston_suburb_df=texas_zipCodes[texas_zipCodes['City'].isin(Houston_suburb_list)]\n",
        "\n",
        "# reset the index\n",
        "Houston_suburb_df=Houston_suburb_df.reset_index(drop=True)\n",
        "\n",
        "# check the dataframe dimension\n",
        "Houston_suburb_df"
      ],
      "execution_count": 8,
      "outputs": [
        {
          "output_type": "execute_result",
          "data": {
            "text/html": [
              "<div>\n",
              "<style scoped>\n",
              "    .dataframe tbody tr th:only-of-type {\n",
              "        vertical-align: middle;\n",
              "    }\n",
              "\n",
              "    .dataframe tbody tr th {\n",
              "        vertical-align: top;\n",
              "    }\n",
              "\n",
              "    .dataframe thead th {\n",
              "        text-align: right;\n",
              "    }\n",
              "</style>\n",
              "<table border=\"1\" class=\"dataframe\">\n",
              "  <thead>\n",
              "    <tr style=\"text-align: right;\">\n",
              "      <th></th>\n",
              "      <th>Zip</th>\n",
              "      <th>City</th>\n",
              "      <th>Latitude</th>\n",
              "      <th>Longitude</th>\n",
              "    </tr>\n",
              "  </thead>\n",
              "  <tbody>\n",
              "    <tr>\n",
              "      <th>0</th>\n",
              "      <td>77373</td>\n",
              "      <td>Spring</td>\n",
              "      <td>30.056394</td>\n",
              "      <td>-95.389610</td>\n",
              "    </tr>\n",
              "    <tr>\n",
              "      <th>1</th>\n",
              "      <td>77005</td>\n",
              "      <td>Houston</td>\n",
              "      <td>29.717529</td>\n",
              "      <td>-95.428210</td>\n",
              "    </tr>\n",
              "    <tr>\n",
              "      <th>2</th>\n",
              "      <td>77735</td>\n",
              "      <td>Tomball</td>\n",
              "      <td>30.095391</td>\n",
              "      <td>-95.628023</td>\n",
              "    </tr>\n",
              "    <tr>\n",
              "      <th>3</th>\n",
              "      <td>77088</td>\n",
              "      <td>Houston</td>\n",
              "      <td>29.879213</td>\n",
              "      <td>-95.450280</td>\n",
              "    </tr>\n",
              "    <tr>\n",
              "      <th>4</th>\n",
              "      <td>77066</td>\n",
              "      <td>Houston</td>\n",
              "      <td>29.959439</td>\n",
              "      <td>-95.496940</td>\n",
              "    </tr>\n",
              "    <tr>\n",
              "      <th>...</th>\n",
              "      <td>...</td>\n",
              "      <td>...</td>\n",
              "      <td>...</td>\n",
              "      <td>...</td>\n",
              "    </tr>\n",
              "    <tr>\n",
              "      <th>245</th>\n",
              "      <td>77008</td>\n",
              "      <td>Houston</td>\n",
              "      <td>29.798777</td>\n",
              "      <td>-95.409510</td>\n",
              "    </tr>\n",
              "    <tr>\n",
              "      <th>246</th>\n",
              "      <td>77238</td>\n",
              "      <td>Houston</td>\n",
              "      <td>29.833990</td>\n",
              "      <td>-95.434241</td>\n",
              "    </tr>\n",
              "    <tr>\n",
              "      <th>247</th>\n",
              "      <td>77086</td>\n",
              "      <td>Houston</td>\n",
              "      <td>29.920981</td>\n",
              "      <td>-95.495560</td>\n",
              "    </tr>\n",
              "    <tr>\n",
              "      <th>248</th>\n",
              "      <td>77248</td>\n",
              "      <td>Houston</td>\n",
              "      <td>29.833990</td>\n",
              "      <td>-95.434241</td>\n",
              "    </tr>\n",
              "    <tr>\n",
              "      <th>249</th>\n",
              "      <td>77026</td>\n",
              "      <td>Houston</td>\n",
              "      <td>29.794370</td>\n",
              "      <td>-95.333950</td>\n",
              "    </tr>\n",
              "  </tbody>\n",
              "</table>\n",
              "<p>250 rows × 4 columns</p>\n",
              "</div>"
            ],
            "text/plain": [
              "       Zip     City   Latitude  Longitude\n",
              "0    77373   Spring  30.056394 -95.389610\n",
              "1    77005  Houston  29.717529 -95.428210\n",
              "2    77735  Tomball  30.095391 -95.628023\n",
              "3    77088  Houston  29.879213 -95.450280\n",
              "4    77066  Houston  29.959439 -95.496940\n",
              "..     ...      ...        ...        ...\n",
              "245  77008  Houston  29.798777 -95.409510\n",
              "246  77238  Houston  29.833990 -95.434241\n",
              "247  77086  Houston  29.920981 -95.495560\n",
              "248  77248  Houston  29.833990 -95.434241\n",
              "249  77026  Houston  29.794370 -95.333950\n",
              "\n",
              "[250 rows x 4 columns]"
            ]
          },
          "metadata": {
            "tags": []
          },
          "execution_count": 8
        }
      ]
    },
    {
      "cell_type": "markdown",
      "metadata": {
        "id": "ZCqc1QKWDyVK"
      },
      "source": [
        "### Check if any data is missing "
      ]
    },
    {
      "cell_type": "code",
      "metadata": {
        "id": "V9EM3YdBBqWD",
        "outputId": "d3f5a35e-363d-40e5-f3ba-7ceb5f9999e9",
        "colab": {
          "base_uri": "https://localhost:8080/",
          "height": 102
        }
      },
      "source": [
        "# Check if we have any NA values in the dataset\n",
        "Houston_suburb_df.isna().sum()"
      ],
      "execution_count": 9,
      "outputs": [
        {
          "output_type": "execute_result",
          "data": {
            "text/plain": [
              "Zip          0\n",
              "City         0\n",
              "Latitude     0\n",
              "Longitude    0\n",
              "dtype: int64"
            ]
          },
          "metadata": {
            "tags": []
          },
          "execution_count": 9
        }
      ]
    },
    {
      "cell_type": "code",
      "metadata": {
        "id": "ovyLbgrGBqWH",
        "outputId": "05dde273-ba9b-4d72-9b4d-2e787dba273a",
        "colab": {
          "base_uri": "https://localhost:8080/",
          "height": 408
        }
      },
      "source": [
        "# find the frequency of each city in the dataset\n",
        "Houston_suburb_df['City'].value_counts()"
      ],
      "execution_count": 10,
      "outputs": [
        {
          "output_type": "execute_result",
          "data": {
            "text/plain": [
              "Houston          182\n",
              "Spring            12\n",
              "Pasadena           8\n",
              "Humble             7\n",
              "Katy               6\n",
              "Victoria           5\n",
              "Sugar Land         4\n",
              "Tomball            3\n",
              "Pearland           3\n",
              "Cypress            3\n",
              "Baytown            3\n",
              "Stafford           2\n",
              "Missouri City      2\n",
              "Bellaire           2\n",
              "Alief              1\n",
              "North Houston      1\n",
              "Hufsmith           1\n",
              "Brazoria           1\n",
              "Barker             1\n",
              "Fresno             1\n",
              "South Houston      1\n",
              "Webster            1\n",
              "Name: City, dtype: int64"
            ]
          },
          "metadata": {
            "tags": []
          },
          "execution_count": 10
        }
      ]
    },
    {
      "cell_type": "code",
      "metadata": {
        "id": "zsn0VXz5IWcj",
        "outputId": "139abff8-36f0-4a5d-8bbc-41168d6967af",
        "colab": {
          "base_uri": "https://localhost:8080/",
          "height": 34
        }
      },
      "source": [
        "#Remove the cities with less than 3 data records\n",
        "Houston_suburb_df=Houston_suburb_df.groupby('City').filter(lambda x: len(x)>3)\n",
        "\n",
        "Houston_suburb_df.shape"
      ],
      "execution_count": 11,
      "outputs": [
        {
          "output_type": "execute_result",
          "data": {
            "text/plain": [
              "(224, 4)"
            ]
          },
          "metadata": {
            "tags": []
          },
          "execution_count": 11
        }
      ]
    },
    {
      "cell_type": "code",
      "metadata": {
        "id": "ufYvQzmvgkmq",
        "outputId": "99b5d8a0-5106-42d1-b869-1e0117aad5ef",
        "colab": {
          "base_uri": "https://localhost:8080/",
          "height": 34
        }
      },
      "source": [
        "# number of unique cities in the dataframe\n",
        "len(Houston_suburb_df['City'].unique())"
      ],
      "execution_count": 12,
      "outputs": [
        {
          "output_type": "execute_result",
          "data": {
            "text/plain": [
              "7"
            ]
          },
          "metadata": {
            "tags": []
          },
          "execution_count": 12
        }
      ]
    },
    {
      "cell_type": "markdown",
      "metadata": {
        "id": "vHXG4iaHBqWK"
      },
      "source": [
        "## Use geopy library to get the latitude and longitude values of Houston"
      ]
    },
    {
      "cell_type": "code",
      "metadata": {
        "id": "vVepYvbsBqWL",
        "outputId": "3f63b1f3-0e14-4e8d-8b7e-fd3987de517e",
        "colab": {
          "base_uri": "https://localhost:8080/",
          "height": 34
        }
      },
      "source": [
        "from geopy.geocoders import Nominatim\n",
        "\n",
        "address = 'Houston, TX'\n",
        "\n",
        "geolocator = Nominatim(user_agent=\"trn_explorer\")\n",
        "location = geolocator.geocode(address)\n",
        "Houston_latitude = location.latitude\n",
        "Houston_longitude = location.longitude\n",
        "print('The geograpical coordinate of Houston are {}, {}.'.format(Houston_latitude, Houston_longitude))"
      ],
      "execution_count": 13,
      "outputs": [
        {
          "output_type": "stream",
          "text": [
            "The geograpical coordinate of Houston are 29.7589382, -95.3676974.\n"
          ],
          "name": "stdout"
        }
      ]
    },
    {
      "cell_type": "markdown",
      "metadata": {
        "id": "Xpzl74f9BqWU"
      },
      "source": [
        "## Create a map of Houston with Houston and suburbs superimposed on top"
      ]
    },
    {
      "cell_type": "code",
      "metadata": {
        "scrolled": false,
        "id": "GpOzevDuBqWV",
        "outputId": "901f7c0d-1b83-4dbe-d41e-9832ce90d0c5",
        "colab": {
          "base_uri": "https://localhost:8080/",
          "height": 876
        }
      },
      "source": [
        "import folium\n",
        "\n",
        "# create map of Houston using latitude and longitude values\n",
        "map_Houston = folium.Map(location=[Houston_latitude, Houston_longitude], zoom_start=10)\n",
        "\n",
        "# add markers to map\n",
        "for lat, lng, Zip, City in zip(Houston_suburb_df['Latitude'], Houston_suburb_df['Longitude'], Houston_suburb_df['Zip'], Houston_suburb_df['City']):\n",
        "    label = '{}, {}'.format(City, Zip)\n",
        "    label = folium.Popup(label, parse_html=True)\n",
        "    folium.CircleMarker(\n",
        "        [lat, lng],\n",
        "        radius=5,\n",
        "        popup=label,\n",
        "        color='blue',\n",
        "        fill=True,\n",
        "        fill_color='#3186cc',\n",
        "        fill_opacity=0.7,\n",
        "        parse_html=False).add_to(map_Houston)  \n",
        "    \n",
        "map_Houston"
      ],
      "execution_count": 14,
      "outputs": [
        {
          "output_type": "execute_result",
          "data": {
            "text/html": [
              "<div style=\"width:100%;\"><div style=\"position:relative;width:100%;height:0;padding-bottom:60%;\"><span style=\"color:#565656\">Make this Notebook Trusted to load map: File -> Trust Notebook</span><iframe src=\"about:blank\" style=\"position:absolute;width:100%;height:100%;left:0;top:0;border:none !important;\" data-html=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 onload=\"this.contentDocument.open();this.contentDocument.write(atob(this.getAttribute('data-html')));this.contentDocument.close();\" allowfullscreen webkitallowfullscreen mozallowfullscreen></iframe></div></div>"
            ],
            "text/plain": [
              "<folium.folium.Map at 0x7f4844afe2b0>"
            ]
          },
          "metadata": {
            "tags": []
          },
          "execution_count": 14
        }
      ]
    },
    {
      "cell_type": "code",
      "metadata": {
        "id": "VfpbtSRdE9I-",
        "outputId": "6b8d5508-e0bd-4ee0-e9d0-947997e70dee",
        "colab": {
          "base_uri": "https://localhost:8080/",
          "height": 34
        }
      },
      "source": [
        "# further refining the dataframe (Remove the data related to Victoria which is ver far away from Houston)\n",
        "Houston_suburb_df=Houston_suburb_df[Houston_suburb_df['City']!='Victoria']\n",
        "\n",
        "# check the dimension\n",
        "Houston_suburb_df.shape"
      ],
      "execution_count": 15,
      "outputs": [
        {
          "output_type": "execute_result",
          "data": {
            "text/plain": [
              "(219, 4)"
            ]
          },
          "metadata": {
            "tags": []
          },
          "execution_count": 15
        }
      ]
    },
    {
      "cell_type": "markdown",
      "metadata": {
        "id": "3rMSQmyVBqWY"
      },
      "source": [
        "## Define Foursquare Credentials and Version"
      ]
    },
    {
      "cell_type": "code",
      "metadata": {
        "id": "NiFaatb3BqWY",
        "outputId": "aa251915-5565-4d98-dd76-1e264dee2170",
        "colab": {
          "base_uri": "https://localhost:8080/",
          "height": 68
        }
      },
      "source": [
        "CLIENT_ID = 'ZL4LHHA554B0U152HSD14XXNH01VSCTPH2WGXO0AJG5JTFZ2' # your Foursquare ID\n",
        "CLIENT_SECRET = 'EGSSU2XYALBISLTL30ZLCSYLBLTUMEALLSHUIWDIBPOYG0X3' # your Foursquare Secret\n",
        "VERSION = '20180605' # Foursquare API version\n",
        "\n",
        "print('Your credentails:')\n",
        "print('CLIENT_ID: ' + CLIENT_ID)\n",
        "print('CLIENT_SECRET:' + CLIENT_SECRET)"
      ],
      "execution_count": 16,
      "outputs": [
        {
          "output_type": "stream",
          "text": [
            "Your credentails:\n",
            "CLIENT_ID: ZL4LHHA554B0U152HSD14XXNH01VSCTPH2WGXO0AJG5JTFZ2\n",
            "CLIENT_SECRET:EGSSU2XYALBISLTL30ZLCSYLBLTUMEALLSHUIWDIBPOYG0X3\n"
          ],
          "name": "stdout"
        }
      ]
    },
    {
      "cell_type": "markdown",
      "metadata": {
        "id": "mRxsEknCPBmu"
      },
      "source": [
        "## Define a function that extracts the category of the venue"
      ]
    },
    {
      "cell_type": "code",
      "metadata": {
        "id": "j_iu1SdKBqWg"
      },
      "source": [
        "# function that extracts the category of the venue\n",
        "def get_category_type(row):\n",
        "    try:\n",
        "        categories_list = row['categories']\n",
        "    except:\n",
        "        categories_list = row['venue.categories']\n",
        "        \n",
        "    if len(categories_list) == 0:\n",
        "        return None\n",
        "    else:\n",
        "        return categories_list[0]['name']"
      ],
      "execution_count": null,
      "outputs": []
    },
    {
      "cell_type": "markdown",
      "metadata": {
        "id": "Qj_PHg-EBqWm"
      },
      "source": [
        "# 2. Explore Houston Suburbs"
      ]
    },
    {
      "cell_type": "markdown",
      "metadata": {
        "id": "KhIq5prSBqWm"
      },
      "source": [
        "### Create a function to extract the venues and category of the venue for all available data points in different cities"
      ]
    },
    {
      "cell_type": "code",
      "metadata": {
        "id": "_AZjMRgWBqWn"
      },
      "source": [
        "import requests\n",
        "\n",
        "def getNearbyVenues(names, city, latitudes, longitudes, radius=1000,LIMIT=100):\n",
        "    \n",
        "    venues_list=[]\n",
        "    for name, city, lat, lng in zip(names, city, latitudes, longitudes):\n",
        "        # print(city)           \n",
        "        # create the API request URL\n",
        "        url = 'https://api.foursquare.com/v2/venues/explore?&client_id={}&client_secret={}&v={}&ll={},{}&radius={}&limit={}'.format(\n",
        "            CLIENT_ID, \n",
        "            CLIENT_SECRET, \n",
        "            VERSION, \n",
        "            lat, \n",
        "            lng, \n",
        "            radius, \n",
        "            LIMIT)\n",
        "            \n",
        "        # make the GET request\n",
        "        results = requests.get(url).json()[\"response\"]['groups'][0]['items']\n",
        "        \n",
        "        # return only relevant information for each nearby venue\n",
        "        venues_list.append([(\n",
        "            name,\n",
        "            city, \n",
        "            lat, \n",
        "            lng, \n",
        "            v['venue']['name'], \n",
        "            v['venue']['location']['lat'], \n",
        "            v['venue']['location']['lng'],  \n",
        "            v['venue']['categories'][0]['name']) for v in results])\n",
        "\n",
        "    nearby_venues = pd.DataFrame([item for venue_list in venues_list for item in venue_list])\n",
        "    nearby_venues.columns = ['Zip_Code', \n",
        "                  'City',\n",
        "                  'Zip_code_Latitude', \n",
        "                  'Zip_code_Longitude', \n",
        "                  'Venue', \n",
        "                  'Venue_Latitude', \n",
        "                  'Venue_Longitude', \n",
        "                  'Venue_Category']\n",
        "    \n",
        "    return(nearby_venues)"
      ],
      "execution_count": 17,
      "outputs": []
    },
    {
      "cell_type": "markdown",
      "metadata": {
        "id": "URnHf3cEBqWo"
      },
      "source": [
        "## For each Zip code within Houston and selected suburbs run the function and create a new dataframe called *houston_suburb_venues*"
      ]
    },
    {
      "cell_type": "code",
      "metadata": {
        "id": "n39gxf6eBqWp"
      },
      "source": [
        "houston_suburb_venues = getNearbyVenues(names=Houston_suburb_df['Zip'],\n",
        "                                        city=Houston_suburb_df['City'],\n",
        "                                        latitudes=Houston_suburb_df['Latitude'],\n",
        "                                        longitudes=Houston_suburb_df['Longitude']\n",
        "                                        )"
      ],
      "execution_count": 18,
      "outputs": []
    },
    {
      "cell_type": "code",
      "metadata": {
        "id": "agRkANq1aEWv",
        "outputId": "5b26834e-9ea2-4d40-b685-8f0d15d67a45",
        "colab": {
          "base_uri": "https://localhost:8080/",
          "height": 34
        }
      },
      "source": [
        "# check out the features of the df\n",
        "Houston_suburb_df.columns"
      ],
      "execution_count": 19,
      "outputs": [
        {
          "output_type": "execute_result",
          "data": {
            "text/plain": [
              "Index(['Zip', 'City', 'Latitude', 'Longitude'], dtype='object')"
            ]
          },
          "metadata": {
            "tags": []
          },
          "execution_count": 19
        }
      ]
    },
    {
      "cell_type": "markdown",
      "metadata": {
        "id": "eIZ1fjH1BqWq"
      },
      "source": [
        "## Check the size of the resulting dataframe"
      ]
    },
    {
      "cell_type": "code",
      "metadata": {
        "id": "QeZgf5PJBqWr",
        "outputId": "46e8b410-b6a7-4816-c6fa-795b93390af7",
        "colab": {
          "base_uri": "https://localhost:8080/",
          "height": 221
        }
      },
      "source": [
        "print(houston_suburb_venues.shape)\n",
        "houston_suburb_venues.head()"
      ],
      "execution_count": 20,
      "outputs": [
        {
          "output_type": "stream",
          "text": [
            "(7188, 8)\n"
          ],
          "name": "stdout"
        },
        {
          "output_type": "execute_result",
          "data": {
            "text/html": [
              "<div>\n",
              "<style scoped>\n",
              "    .dataframe tbody tr th:only-of-type {\n",
              "        vertical-align: middle;\n",
              "    }\n",
              "\n",
              "    .dataframe tbody tr th {\n",
              "        vertical-align: top;\n",
              "    }\n",
              "\n",
              "    .dataframe thead th {\n",
              "        text-align: right;\n",
              "    }\n",
              "</style>\n",
              "<table border=\"1\" class=\"dataframe\">\n",
              "  <thead>\n",
              "    <tr style=\"text-align: right;\">\n",
              "      <th></th>\n",
              "      <th>Zip_Code</th>\n",
              "      <th>City</th>\n",
              "      <th>Zip_code_Latitude</th>\n",
              "      <th>Zip_code_Longitude</th>\n",
              "      <th>Venue</th>\n",
              "      <th>Venue_Latitude</th>\n",
              "      <th>Venue_Longitude</th>\n",
              "      <th>Venue_Category</th>\n",
              "    </tr>\n",
              "  </thead>\n",
              "  <tbody>\n",
              "    <tr>\n",
              "      <th>0</th>\n",
              "      <td>77373</td>\n",
              "      <td>Spring</td>\n",
              "      <td>30.056394</td>\n",
              "      <td>-95.38961</td>\n",
              "      <td>La Presa Mexican Restaurant</td>\n",
              "      <td>30.051099</td>\n",
              "      <td>-95.388955</td>\n",
              "      <td>Mexican Restaurant</td>\n",
              "    </tr>\n",
              "    <tr>\n",
              "      <th>1</th>\n",
              "      <td>77373</td>\n",
              "      <td>Spring</td>\n",
              "      <td>30.056394</td>\n",
              "      <td>-95.38961</td>\n",
              "      <td>Chychos Pollos Al Carbon</td>\n",
              "      <td>30.048978</td>\n",
              "      <td>-95.387041</td>\n",
              "      <td>Food Truck</td>\n",
              "    </tr>\n",
              "    <tr>\n",
              "      <th>2</th>\n",
              "      <td>77373</td>\n",
              "      <td>Spring</td>\n",
              "      <td>30.056394</td>\n",
              "      <td>-95.38961</td>\n",
              "      <td>Tequila Patio</td>\n",
              "      <td>30.050139</td>\n",
              "      <td>-95.388583</td>\n",
              "      <td>Mexican Restaurant</td>\n",
              "    </tr>\n",
              "    <tr>\n",
              "      <th>3</th>\n",
              "      <td>77373</td>\n",
              "      <td>Spring</td>\n",
              "      <td>30.056394</td>\n",
              "      <td>-95.38961</td>\n",
              "      <td>White Flamingo Restaurant</td>\n",
              "      <td>30.058154</td>\n",
              "      <td>-95.398861</td>\n",
              "      <td>Breakfast Spot</td>\n",
              "    </tr>\n",
              "    <tr>\n",
              "      <th>4</th>\n",
              "      <td>77373</td>\n",
              "      <td>Spring</td>\n",
              "      <td>30.056394</td>\n",
              "      <td>-95.38961</td>\n",
              "      <td>SUBWAY</td>\n",
              "      <td>30.047921</td>\n",
              "      <td>-95.387498</td>\n",
              "      <td>Sandwich Place</td>\n",
              "    </tr>\n",
              "  </tbody>\n",
              "</table>\n",
              "</div>"
            ],
            "text/plain": [
              "   Zip_Code    City  ...  Venue_Longitude      Venue_Category\n",
              "0     77373  Spring  ...       -95.388955  Mexican Restaurant\n",
              "1     77373  Spring  ...       -95.387041          Food Truck\n",
              "2     77373  Spring  ...       -95.388583  Mexican Restaurant\n",
              "3     77373  Spring  ...       -95.398861      Breakfast Spot\n",
              "4     77373  Spring  ...       -95.387498      Sandwich Place\n",
              "\n",
              "[5 rows x 8 columns]"
            ]
          },
          "metadata": {
            "tags": []
          },
          "execution_count": 20
        }
      ]
    },
    {
      "cell_type": "markdown",
      "metadata": {
        "id": "ApBJKPn9BqWt"
      },
      "source": [
        "### Check how many venues were returned for each city"
      ]
    },
    {
      "cell_type": "code",
      "metadata": {
        "id": "KuyIMqlZBqWt",
        "outputId": "1513a42d-cf12-4ba7-dbec-1ea9893589b6",
        "colab": {
          "base_uri": "https://localhost:8080/",
          "height": 266
        }
      },
      "source": [
        "houston_suburb_venues.groupby('City').count()\n"
      ],
      "execution_count": 21,
      "outputs": [
        {
          "output_type": "execute_result",
          "data": {
            "text/html": [
              "<div>\n",
              "<style scoped>\n",
              "    .dataframe tbody tr th:only-of-type {\n",
              "        vertical-align: middle;\n",
              "    }\n",
              "\n",
              "    .dataframe tbody tr th {\n",
              "        vertical-align: top;\n",
              "    }\n",
              "\n",
              "    .dataframe thead th {\n",
              "        text-align: right;\n",
              "    }\n",
              "</style>\n",
              "<table border=\"1\" class=\"dataframe\">\n",
              "  <thead>\n",
              "    <tr style=\"text-align: right;\">\n",
              "      <th></th>\n",
              "      <th>Zip_Code</th>\n",
              "      <th>Zip_code_Latitude</th>\n",
              "      <th>Zip_code_Longitude</th>\n",
              "      <th>Venue</th>\n",
              "      <th>Venue_Latitude</th>\n",
              "      <th>Venue_Longitude</th>\n",
              "      <th>Venue_Category</th>\n",
              "    </tr>\n",
              "    <tr>\n",
              "      <th>City</th>\n",
              "      <th></th>\n",
              "      <th></th>\n",
              "      <th></th>\n",
              "      <th></th>\n",
              "      <th></th>\n",
              "      <th></th>\n",
              "      <th></th>\n",
              "    </tr>\n",
              "  </thead>\n",
              "  <tbody>\n",
              "    <tr>\n",
              "      <th>Houston</th>\n",
              "      <td>6292</td>\n",
              "      <td>6292</td>\n",
              "      <td>6292</td>\n",
              "      <td>6292</td>\n",
              "      <td>6292</td>\n",
              "      <td>6292</td>\n",
              "      <td>6292</td>\n",
              "    </tr>\n",
              "    <tr>\n",
              "      <th>Humble</th>\n",
              "      <td>252</td>\n",
              "      <td>252</td>\n",
              "      <td>252</td>\n",
              "      <td>252</td>\n",
              "      <td>252</td>\n",
              "      <td>252</td>\n",
              "      <td>252</td>\n",
              "    </tr>\n",
              "    <tr>\n",
              "      <th>Katy</th>\n",
              "      <td>164</td>\n",
              "      <td>164</td>\n",
              "      <td>164</td>\n",
              "      <td>164</td>\n",
              "      <td>164</td>\n",
              "      <td>164</td>\n",
              "      <td>164</td>\n",
              "    </tr>\n",
              "    <tr>\n",
              "      <th>Pasadena</th>\n",
              "      <td>211</td>\n",
              "      <td>211</td>\n",
              "      <td>211</td>\n",
              "      <td>211</td>\n",
              "      <td>211</td>\n",
              "      <td>211</td>\n",
              "      <td>211</td>\n",
              "    </tr>\n",
              "    <tr>\n",
              "      <th>Spring</th>\n",
              "      <td>247</td>\n",
              "      <td>247</td>\n",
              "      <td>247</td>\n",
              "      <td>247</td>\n",
              "      <td>247</td>\n",
              "      <td>247</td>\n",
              "      <td>247</td>\n",
              "    </tr>\n",
              "    <tr>\n",
              "      <th>Sugar Land</th>\n",
              "      <td>22</td>\n",
              "      <td>22</td>\n",
              "      <td>22</td>\n",
              "      <td>22</td>\n",
              "      <td>22</td>\n",
              "      <td>22</td>\n",
              "      <td>22</td>\n",
              "    </tr>\n",
              "  </tbody>\n",
              "</table>\n",
              "</div>"
            ],
            "text/plain": [
              "            Zip_Code  Zip_code_Latitude  ...  Venue_Longitude  Venue_Category\n",
              "City                                     ...                                 \n",
              "Houston         6292               6292  ...             6292            6292\n",
              "Humble           252                252  ...              252             252\n",
              "Katy             164                164  ...              164             164\n",
              "Pasadena         211                211  ...              211             211\n",
              "Spring           247                247  ...              247             247\n",
              "Sugar Land        22                 22  ...               22              22\n",
              "\n",
              "[6 rows x 7 columns]"
            ]
          },
          "metadata": {
            "tags": []
          },
          "execution_count": 21
        }
      ]
    },
    {
      "cell_type": "markdown",
      "metadata": {
        "id": "zaxV1nBDBqWv"
      },
      "source": [
        "## Find out how many unique categories can be curated from all the returned venues"
      ]
    },
    {
      "cell_type": "code",
      "metadata": {
        "id": "H6xPr15mBqWw",
        "outputId": "637c6ac3-e26e-4d62-f320-d90577341992",
        "colab": {
          "base_uri": "https://localhost:8080/",
          "height": 34
        }
      },
      "source": [
        "print('There are {} unique categories.'.format(len(houston_suburb_venues['Venue_Category'].unique())))"
      ],
      "execution_count": 23,
      "outputs": [
        {
          "output_type": "stream",
          "text": [
            "There are 319 unique categories.\n"
          ],
          "name": "stdout"
        }
      ]
    },
    {
      "cell_type": "markdown",
      "metadata": {
        "id": "TeOadrgidhc2"
      },
      "source": [
        "### Unify all types of Restaurants and all types of Bars as single categories, Resturant and Bar.\n"
      ]
    },
    {
      "cell_type": "code",
      "metadata": {
        "id": "fJcdVZGy_RK0",
        "outputId": "28badab8-4e56-4609-a88d-31ab8773caa2",
        "colab": {
          "base_uri": "https://localhost:8080/",
          "height": 34
        }
      },
      "source": [
        "match_word_list=['Restaurant','Bar']\n",
        "count_list=[]\n",
        "\n",
        "for match_word in match_word_list:\n",
        "  count_matchWord=0\n",
        "  i=0\n",
        "  for item in houston_suburb_venues['Venue_Category']:\n",
        "    i=i+1     \n",
        "    if match_word in item:\n",
        "      # count the number of items which include Restaurant or Bar\n",
        "      count_matchWord=count_matchWord+1\n",
        "      houston_suburb_venues.loc[i-1,'Venue_Category']=match_word\n",
        "\n",
        "  count_list.append(count_matchWord)\n",
        "\n",
        "count_list\n"
      ],
      "execution_count": 24,
      "outputs": [
        {
          "output_type": "execute_result",
          "data": {
            "text/plain": [
              "[1054, 419]"
            ]
          },
          "metadata": {
            "tags": []
          },
          "execution_count": 24
        }
      ]
    },
    {
      "cell_type": "code",
      "metadata": {
        "id": "aUyGDz94hmC_",
        "outputId": "1e2a6291-8d2a-4922-849c-3e1412ebfbbc",
        "colab": {
          "base_uri": "https://localhost:8080/",
          "height": 34
        }
      },
      "source": [
        "# check the number of unique categories of the returned venues\n",
        "print('There are {} unique categories.'.format(len(houston_suburb_venues['Venue_Category'].unique())))"
      ],
      "execution_count": 26,
      "outputs": [
        {
          "output_type": "stream",
          "text": [
            "There are 254 unique categories.\n"
          ],
          "name": "stdout"
        }
      ]
    },
    {
      "cell_type": "markdown",
      "metadata": {
        "id": "TsWks7XjBqWy"
      },
      "source": [
        "# 3.Analyze the venues in each Suburb"
      ]
    },
    {
      "cell_type": "code",
      "metadata": {
        "id": "I3CbmQyPBqWz",
        "outputId": "489d36af-361c-4f36-9190-e0698abe2d3d",
        "colab": {
          "base_uri": "https://localhost:8080/",
          "height": 304
        }
      },
      "source": [
        "# one hot encoding\n",
        "houston_sub_onehot = pd.get_dummies(houston_suburb_venues[['Venue_Category']], prefix=\"\", prefix_sep=\"\")\n",
        "\n",
        "# add Zip code, City, latitude and lonitude columns back to the dataframe    \n",
        "houston_sub_onehot['Zip_Code'] = houston_suburb_venues['Zip_Code'] \n",
        "houston_sub_onehot['City'] = houston_suburb_venues['City']\n",
        "houston_sub_onehot['Latitude'] = houston_suburb_venues['Zip_code_Latitude']\n",
        "houston_sub_onehot['Longitude'] = houston_suburb_venues['Zip_code_Longitude']\n",
        "\n",
        "# move Zip_Code and City column to the first and second column\n",
        "fixed_columns = [houston_sub_onehot.columns[-4]] +[houston_sub_onehot.columns[-3]]+[houston_sub_onehot.columns[-2]] +[houston_sub_onehot.columns[-1]]+ list(houston_sub_onehot.columns[:-4])\n",
        "houston_sub_onehot = houston_sub_onehot[fixed_columns]\n",
        "\n",
        "houston_sub_onehot.head()"
      ],
      "execution_count": 27,
      "outputs": [
        {
          "output_type": "execute_result",
          "data": {
            "text/html": [
              "<div>\n",
              "<style scoped>\n",
              "    .dataframe tbody tr th:only-of-type {\n",
              "        vertical-align: middle;\n",
              "    }\n",
              "\n",
              "    .dataframe tbody tr th {\n",
              "        vertical-align: top;\n",
              "    }\n",
              "\n",
              "    .dataframe thead th {\n",
              "        text-align: right;\n",
              "    }\n",
              "</style>\n",
              "<table border=\"1\" class=\"dataframe\">\n",
              "  <thead>\n",
              "    <tr style=\"text-align: right;\">\n",
              "      <th></th>\n",
              "      <th>Zip_Code</th>\n",
              "      <th>City</th>\n",
              "      <th>Latitude</th>\n",
              "      <th>Longitude</th>\n",
              "      <th>ATM</th>\n",
              "      <th>Accessories Store</th>\n",
              "      <th>Advertising Agency</th>\n",
              "      <th>Airport</th>\n",
              "      <th>Airport Lounge</th>\n",
              "      <th>Airport Service</th>\n",
              "      <th>Airport Terminal</th>\n",
              "      <th>Antique Shop</th>\n",
              "      <th>Arcade</th>\n",
              "      <th>Art Gallery</th>\n",
              "      <th>Art Museum</th>\n",
              "      <th>Arts &amp; Crafts Store</th>\n",
              "      <th>Arts &amp; Entertainment</th>\n",
              "      <th>Astrologer</th>\n",
              "      <th>Athletics &amp; Sports</th>\n",
              "      <th>Auto Garage</th>\n",
              "      <th>Auto Workshop</th>\n",
              "      <th>Automotive Shop</th>\n",
              "      <th>BBQ Joint</th>\n",
              "      <th>Bagel Shop</th>\n",
              "      <th>Bakery</th>\n",
              "      <th>Bank</th>\n",
              "      <th>Bar</th>\n",
              "      <th>Baseball Field</th>\n",
              "      <th>Baseball Stadium</th>\n",
              "      <th>Basketball Court</th>\n",
              "      <th>Basketball Stadium</th>\n",
              "      <th>Beer Garden</th>\n",
              "      <th>Beer Store</th>\n",
              "      <th>Big Box Store</th>\n",
              "      <th>Bike Shop</th>\n",
              "      <th>Bike Trail</th>\n",
              "      <th>Bistro</th>\n",
              "      <th>Boat or Ferry</th>\n",
              "      <th>Bookstore</th>\n",
              "      <th>Botanical Garden</th>\n",
              "      <th>...</th>\n",
              "      <th>Shopping Mall</th>\n",
              "      <th>Shopping Plaza</th>\n",
              "      <th>Skate Park</th>\n",
              "      <th>Skating Rink</th>\n",
              "      <th>Smoke Shop</th>\n",
              "      <th>Smoothie Shop</th>\n",
              "      <th>Snack Place</th>\n",
              "      <th>Soccer Field</th>\n",
              "      <th>Soccer Stadium</th>\n",
              "      <th>Spa</th>\n",
              "      <th>Speakeasy</th>\n",
              "      <th>Spiritual Center</th>\n",
              "      <th>Sporting Goods Shop</th>\n",
              "      <th>Steakhouse</th>\n",
              "      <th>Storage Facility</th>\n",
              "      <th>Supermarket</th>\n",
              "      <th>Supplement Shop</th>\n",
              "      <th>Swim School</th>\n",
              "      <th>Taco Place</th>\n",
              "      <th>Tanning Salon</th>\n",
              "      <th>Tattoo Parlor</th>\n",
              "      <th>Taxi Stand</th>\n",
              "      <th>Tea Room</th>\n",
              "      <th>Tennis Court</th>\n",
              "      <th>Theater</th>\n",
              "      <th>Thrift / Vintage Store</th>\n",
              "      <th>Toll Booth</th>\n",
              "      <th>Toy / Game Store</th>\n",
              "      <th>Trail</th>\n",
              "      <th>Travel &amp; Transport</th>\n",
              "      <th>Travel Agency</th>\n",
              "      <th>Vehicle Inspection Station</th>\n",
              "      <th>Video Game Store</th>\n",
              "      <th>Video Store</th>\n",
              "      <th>Warehouse Store</th>\n",
              "      <th>Weight Loss Center</th>\n",
              "      <th>Wine Shop</th>\n",
              "      <th>Wings Joint</th>\n",
              "      <th>Women's Store</th>\n",
              "      <th>Yoga Studio</th>\n",
              "    </tr>\n",
              "  </thead>\n",
              "  <tbody>\n",
              "    <tr>\n",
              "      <th>0</th>\n",
              "      <td>77373</td>\n",
              "      <td>Spring</td>\n",
              "      <td>30.056394</td>\n",
              "      <td>-95.38961</td>\n",
              "      <td>0</td>\n",
              "      <td>0</td>\n",
              "      <td>0</td>\n",
              "      <td>0</td>\n",
              "      <td>0</td>\n",
              "      <td>0</td>\n",
              "      <td>0</td>\n",
              "      <td>0</td>\n",
              "      <td>0</td>\n",
              "      <td>0</td>\n",
              "      <td>0</td>\n",
              "      <td>0</td>\n",
              "      <td>0</td>\n",
              "      <td>0</td>\n",
              "      <td>0</td>\n",
              "      <td>0</td>\n",
              "      <td>0</td>\n",
              "      <td>0</td>\n",
              "      <td>0</td>\n",
              "      <td>0</td>\n",
              "      <td>0</td>\n",
              "      <td>0</td>\n",
              "      <td>0</td>\n",
              "      <td>0</td>\n",
              "      <td>0</td>\n",
              "      <td>0</td>\n",
              "      <td>0</td>\n",
              "      <td>0</td>\n",
              "      <td>0</td>\n",
              "      <td>0</td>\n",
              "      <td>0</td>\n",
              "      <td>0</td>\n",
              "      <td>0</td>\n",
              "      <td>0</td>\n",
              "      <td>0</td>\n",
              "      <td>0</td>\n",
              "      <td>...</td>\n",
              "      <td>0</td>\n",
              "      <td>0</td>\n",
              "      <td>0</td>\n",
              "      <td>0</td>\n",
              "      <td>0</td>\n",
              "      <td>0</td>\n",
              "      <td>0</td>\n",
              "      <td>0</td>\n",
              "      <td>0</td>\n",
              "      <td>0</td>\n",
              "      <td>0</td>\n",
              "      <td>0</td>\n",
              "      <td>0</td>\n",
              "      <td>0</td>\n",
              "      <td>0</td>\n",
              "      <td>0</td>\n",
              "      <td>0</td>\n",
              "      <td>0</td>\n",
              "      <td>0</td>\n",
              "      <td>0</td>\n",
              "      <td>0</td>\n",
              "      <td>0</td>\n",
              "      <td>0</td>\n",
              "      <td>0</td>\n",
              "      <td>0</td>\n",
              "      <td>0</td>\n",
              "      <td>0</td>\n",
              "      <td>0</td>\n",
              "      <td>0</td>\n",
              "      <td>0</td>\n",
              "      <td>0</td>\n",
              "      <td>0</td>\n",
              "      <td>0</td>\n",
              "      <td>0</td>\n",
              "      <td>0</td>\n",
              "      <td>0</td>\n",
              "      <td>0</td>\n",
              "      <td>0</td>\n",
              "      <td>0</td>\n",
              "      <td>0</td>\n",
              "    </tr>\n",
              "    <tr>\n",
              "      <th>1</th>\n",
              "      <td>77373</td>\n",
              "      <td>Spring</td>\n",
              "      <td>30.056394</td>\n",
              "      <td>-95.38961</td>\n",
              "      <td>0</td>\n",
              "      <td>0</td>\n",
              "      <td>0</td>\n",
              "      <td>0</td>\n",
              "      <td>0</td>\n",
              "      <td>0</td>\n",
              "      <td>0</td>\n",
              "      <td>0</td>\n",
              "      <td>0</td>\n",
              "      <td>0</td>\n",
              "      <td>0</td>\n",
              "      <td>0</td>\n",
              "      <td>0</td>\n",
              "      <td>0</td>\n",
              "      <td>0</td>\n",
              "      <td>0</td>\n",
              "      <td>0</td>\n",
              "      <td>0</td>\n",
              "      <td>0</td>\n",
              "      <td>0</td>\n",
              "      <td>0</td>\n",
              "      <td>0</td>\n",
              "      <td>0</td>\n",
              "      <td>0</td>\n",
              "      <td>0</td>\n",
              "      <td>0</td>\n",
              "      <td>0</td>\n",
              "      <td>0</td>\n",
              "      <td>0</td>\n",
              "      <td>0</td>\n",
              "      <td>0</td>\n",
              "      <td>0</td>\n",
              "      <td>0</td>\n",
              "      <td>0</td>\n",
              "      <td>0</td>\n",
              "      <td>0</td>\n",
              "      <td>...</td>\n",
              "      <td>0</td>\n",
              "      <td>0</td>\n",
              "      <td>0</td>\n",
              "      <td>0</td>\n",
              "      <td>0</td>\n",
              "      <td>0</td>\n",
              "      <td>0</td>\n",
              "      <td>0</td>\n",
              "      <td>0</td>\n",
              "      <td>0</td>\n",
              "      <td>0</td>\n",
              "      <td>0</td>\n",
              "      <td>0</td>\n",
              "      <td>0</td>\n",
              "      <td>0</td>\n",
              "      <td>0</td>\n",
              "      <td>0</td>\n",
              "      <td>0</td>\n",
              "      <td>0</td>\n",
              "      <td>0</td>\n",
              "      <td>0</td>\n",
              "      <td>0</td>\n",
              "      <td>0</td>\n",
              "      <td>0</td>\n",
              "      <td>0</td>\n",
              "      <td>0</td>\n",
              "      <td>0</td>\n",
              "      <td>0</td>\n",
              "      <td>0</td>\n",
              "      <td>0</td>\n",
              "      <td>0</td>\n",
              "      <td>0</td>\n",
              "      <td>0</td>\n",
              "      <td>0</td>\n",
              "      <td>0</td>\n",
              "      <td>0</td>\n",
              "      <td>0</td>\n",
              "      <td>0</td>\n",
              "      <td>0</td>\n",
              "      <td>0</td>\n",
              "    </tr>\n",
              "    <tr>\n",
              "      <th>2</th>\n",
              "      <td>77373</td>\n",
              "      <td>Spring</td>\n",
              "      <td>30.056394</td>\n",
              "      <td>-95.38961</td>\n",
              "      <td>0</td>\n",
              "      <td>0</td>\n",
              "      <td>0</td>\n",
              "      <td>0</td>\n",
              "      <td>0</td>\n",
              "      <td>0</td>\n",
              "      <td>0</td>\n",
              "      <td>0</td>\n",
              "      <td>0</td>\n",
              "      <td>0</td>\n",
              "      <td>0</td>\n",
              "      <td>0</td>\n",
              "      <td>0</td>\n",
              "      <td>0</td>\n",
              "      <td>0</td>\n",
              "      <td>0</td>\n",
              "      <td>0</td>\n",
              "      <td>0</td>\n",
              "      <td>0</td>\n",
              "      <td>0</td>\n",
              "      <td>0</td>\n",
              "      <td>0</td>\n",
              "      <td>0</td>\n",
              "      <td>0</td>\n",
              "      <td>0</td>\n",
              "      <td>0</td>\n",
              "      <td>0</td>\n",
              "      <td>0</td>\n",
              "      <td>0</td>\n",
              "      <td>0</td>\n",
              "      <td>0</td>\n",
              "      <td>0</td>\n",
              "      <td>0</td>\n",
              "      <td>0</td>\n",
              "      <td>0</td>\n",
              "      <td>0</td>\n",
              "      <td>...</td>\n",
              "      <td>0</td>\n",
              "      <td>0</td>\n",
              "      <td>0</td>\n",
              "      <td>0</td>\n",
              "      <td>0</td>\n",
              "      <td>0</td>\n",
              "      <td>0</td>\n",
              "      <td>0</td>\n",
              "      <td>0</td>\n",
              "      <td>0</td>\n",
              "      <td>0</td>\n",
              "      <td>0</td>\n",
              "      <td>0</td>\n",
              "      <td>0</td>\n",
              "      <td>0</td>\n",
              "      <td>0</td>\n",
              "      <td>0</td>\n",
              "      <td>0</td>\n",
              "      <td>0</td>\n",
              "      <td>0</td>\n",
              "      <td>0</td>\n",
              "      <td>0</td>\n",
              "      <td>0</td>\n",
              "      <td>0</td>\n",
              "      <td>0</td>\n",
              "      <td>0</td>\n",
              "      <td>0</td>\n",
              "      <td>0</td>\n",
              "      <td>0</td>\n",
              "      <td>0</td>\n",
              "      <td>0</td>\n",
              "      <td>0</td>\n",
              "      <td>0</td>\n",
              "      <td>0</td>\n",
              "      <td>0</td>\n",
              "      <td>0</td>\n",
              "      <td>0</td>\n",
              "      <td>0</td>\n",
              "      <td>0</td>\n",
              "      <td>0</td>\n",
              "    </tr>\n",
              "    <tr>\n",
              "      <th>3</th>\n",
              "      <td>77373</td>\n",
              "      <td>Spring</td>\n",
              "      <td>30.056394</td>\n",
              "      <td>-95.38961</td>\n",
              "      <td>0</td>\n",
              "      <td>0</td>\n",
              "      <td>0</td>\n",
              "      <td>0</td>\n",
              "      <td>0</td>\n",
              "      <td>0</td>\n",
              "      <td>0</td>\n",
              "      <td>0</td>\n",
              "      <td>0</td>\n",
              "      <td>0</td>\n",
              "      <td>0</td>\n",
              "      <td>0</td>\n",
              "      <td>0</td>\n",
              "      <td>0</td>\n",
              "      <td>0</td>\n",
              "      <td>0</td>\n",
              "      <td>0</td>\n",
              "      <td>0</td>\n",
              "      <td>0</td>\n",
              "      <td>0</td>\n",
              "      <td>0</td>\n",
              "      <td>0</td>\n",
              "      <td>0</td>\n",
              "      <td>0</td>\n",
              "      <td>0</td>\n",
              "      <td>0</td>\n",
              "      <td>0</td>\n",
              "      <td>0</td>\n",
              "      <td>0</td>\n",
              "      <td>0</td>\n",
              "      <td>0</td>\n",
              "      <td>0</td>\n",
              "      <td>0</td>\n",
              "      <td>0</td>\n",
              "      <td>0</td>\n",
              "      <td>0</td>\n",
              "      <td>...</td>\n",
              "      <td>0</td>\n",
              "      <td>0</td>\n",
              "      <td>0</td>\n",
              "      <td>0</td>\n",
              "      <td>0</td>\n",
              "      <td>0</td>\n",
              "      <td>0</td>\n",
              "      <td>0</td>\n",
              "      <td>0</td>\n",
              "      <td>0</td>\n",
              "      <td>0</td>\n",
              "      <td>0</td>\n",
              "      <td>0</td>\n",
              "      <td>0</td>\n",
              "      <td>0</td>\n",
              "      <td>0</td>\n",
              "      <td>0</td>\n",
              "      <td>0</td>\n",
              "      <td>0</td>\n",
              "      <td>0</td>\n",
              "      <td>0</td>\n",
              "      <td>0</td>\n",
              "      <td>0</td>\n",
              "      <td>0</td>\n",
              "      <td>0</td>\n",
              "      <td>0</td>\n",
              "      <td>0</td>\n",
              "      <td>0</td>\n",
              "      <td>0</td>\n",
              "      <td>0</td>\n",
              "      <td>0</td>\n",
              "      <td>0</td>\n",
              "      <td>0</td>\n",
              "      <td>0</td>\n",
              "      <td>0</td>\n",
              "      <td>0</td>\n",
              "      <td>0</td>\n",
              "      <td>0</td>\n",
              "      <td>0</td>\n",
              "      <td>0</td>\n",
              "    </tr>\n",
              "    <tr>\n",
              "      <th>4</th>\n",
              "      <td>77373</td>\n",
              "      <td>Spring</td>\n",
              "      <td>30.056394</td>\n",
              "      <td>-95.38961</td>\n",
              "      <td>0</td>\n",
              "      <td>0</td>\n",
              "      <td>0</td>\n",
              "      <td>0</td>\n",
              "      <td>0</td>\n",
              "      <td>0</td>\n",
              "      <td>0</td>\n",
              "      <td>0</td>\n",
              "      <td>0</td>\n",
              "      <td>0</td>\n",
              "      <td>0</td>\n",
              "      <td>0</td>\n",
              "      <td>0</td>\n",
              "      <td>0</td>\n",
              "      <td>0</td>\n",
              "      <td>0</td>\n",
              "      <td>0</td>\n",
              "      <td>0</td>\n",
              "      <td>0</td>\n",
              "      <td>0</td>\n",
              "      <td>0</td>\n",
              "      <td>0</td>\n",
              "      <td>0</td>\n",
              "      <td>0</td>\n",
              "      <td>0</td>\n",
              "      <td>0</td>\n",
              "      <td>0</td>\n",
              "      <td>0</td>\n",
              "      <td>0</td>\n",
              "      <td>0</td>\n",
              "      <td>0</td>\n",
              "      <td>0</td>\n",
              "      <td>0</td>\n",
              "      <td>0</td>\n",
              "      <td>0</td>\n",
              "      <td>0</td>\n",
              "      <td>...</td>\n",
              "      <td>0</td>\n",
              "      <td>0</td>\n",
              "      <td>0</td>\n",
              "      <td>0</td>\n",
              "      <td>0</td>\n",
              "      <td>0</td>\n",
              "      <td>0</td>\n",
              "      <td>0</td>\n",
              "      <td>0</td>\n",
              "      <td>0</td>\n",
              "      <td>0</td>\n",
              "      <td>0</td>\n",
              "      <td>0</td>\n",
              "      <td>0</td>\n",
              "      <td>0</td>\n",
              "      <td>0</td>\n",
              "      <td>0</td>\n",
              "      <td>0</td>\n",
              "      <td>0</td>\n",
              "      <td>0</td>\n",
              "      <td>0</td>\n",
              "      <td>0</td>\n",
              "      <td>0</td>\n",
              "      <td>0</td>\n",
              "      <td>0</td>\n",
              "      <td>0</td>\n",
              "      <td>0</td>\n",
              "      <td>0</td>\n",
              "      <td>0</td>\n",
              "      <td>0</td>\n",
              "      <td>0</td>\n",
              "      <td>0</td>\n",
              "      <td>0</td>\n",
              "      <td>0</td>\n",
              "      <td>0</td>\n",
              "      <td>0</td>\n",
              "      <td>0</td>\n",
              "      <td>0</td>\n",
              "      <td>0</td>\n",
              "      <td>0</td>\n",
              "    </tr>\n",
              "  </tbody>\n",
              "</table>\n",
              "<p>5 rows × 258 columns</p>\n",
              "</div>"
            ],
            "text/plain": [
              "   Zip_Code    City   Latitude  ...  Wings Joint  Women's Store  Yoga Studio\n",
              "0     77373  Spring  30.056394  ...            0              0            0\n",
              "1     77373  Spring  30.056394  ...            0              0            0\n",
              "2     77373  Spring  30.056394  ...            0              0            0\n",
              "3     77373  Spring  30.056394  ...            0              0            0\n",
              "4     77373  Spring  30.056394  ...            0              0            0\n",
              "\n",
              "[5 rows x 258 columns]"
            ]
          },
          "metadata": {
            "tags": []
          },
          "execution_count": 27
        }
      ]
    },
    {
      "cell_type": "code",
      "metadata": {
        "id": "LKTn_5EhBqW1",
        "outputId": "9aeffa4b-6bdc-4edb-cccf-d9cb635e76f8",
        "colab": {
          "base_uri": "https://localhost:8080/",
          "height": 34
        }
      },
      "source": [
        "# examine the new dataframe size\n",
        "houston_sub_onehot.shape"
      ],
      "execution_count": 28,
      "outputs": [
        {
          "output_type": "execute_result",
          "data": {
            "text/plain": [
              "(7188, 258)"
            ]
          },
          "metadata": {
            "tags": []
          },
          "execution_count": 28
        }
      ]
    },
    {
      "cell_type": "markdown",
      "metadata": {
        "id": "8ESIFSzMBqW2"
      },
      "source": [
        "## Group rows by Zip_Code by taking the mean of the frequency of occurrence of each category"
      ]
    },
    {
      "cell_type": "code",
      "metadata": {
        "id": "NOHKJxlUBqW3",
        "outputId": "c6396585-1291-49a9-832c-f4fa8a86a664",
        "colab": {
          "base_uri": "https://localhost:8080/",
          "height": 304
        }
      },
      "source": [
        "houston_suburb_grouped = houston_sub_onehot.groupby('Zip_Code').mean().reset_index()\n",
        "houston_suburb_grouped.head()"
      ],
      "execution_count": 29,
      "outputs": [
        {
          "output_type": "execute_result",
          "data": {
            "text/html": [
              "<div>\n",
              "<style scoped>\n",
              "    .dataframe tbody tr th:only-of-type {\n",
              "        vertical-align: middle;\n",
              "    }\n",
              "\n",
              "    .dataframe tbody tr th {\n",
              "        vertical-align: top;\n",
              "    }\n",
              "\n",
              "    .dataframe thead th {\n",
              "        text-align: right;\n",
              "    }\n",
              "</style>\n",
              "<table border=\"1\" class=\"dataframe\">\n",
              "  <thead>\n",
              "    <tr style=\"text-align: right;\">\n",
              "      <th></th>\n",
              "      <th>Zip_Code</th>\n",
              "      <th>Latitude</th>\n",
              "      <th>Longitude</th>\n",
              "      <th>ATM</th>\n",
              "      <th>Accessories Store</th>\n",
              "      <th>Advertising Agency</th>\n",
              "      <th>Airport</th>\n",
              "      <th>Airport Lounge</th>\n",
              "      <th>Airport Service</th>\n",
              "      <th>Airport Terminal</th>\n",
              "      <th>Antique Shop</th>\n",
              "      <th>Arcade</th>\n",
              "      <th>Art Gallery</th>\n",
              "      <th>Art Museum</th>\n",
              "      <th>Arts &amp; Crafts Store</th>\n",
              "      <th>Arts &amp; Entertainment</th>\n",
              "      <th>Astrologer</th>\n",
              "      <th>Athletics &amp; Sports</th>\n",
              "      <th>Auto Garage</th>\n",
              "      <th>Auto Workshop</th>\n",
              "      <th>Automotive Shop</th>\n",
              "      <th>BBQ Joint</th>\n",
              "      <th>Bagel Shop</th>\n",
              "      <th>Bakery</th>\n",
              "      <th>Bank</th>\n",
              "      <th>Bar</th>\n",
              "      <th>Baseball Field</th>\n",
              "      <th>Baseball Stadium</th>\n",
              "      <th>Basketball Court</th>\n",
              "      <th>Basketball Stadium</th>\n",
              "      <th>Beer Garden</th>\n",
              "      <th>Beer Store</th>\n",
              "      <th>Big Box Store</th>\n",
              "      <th>Bike Shop</th>\n",
              "      <th>Bike Trail</th>\n",
              "      <th>Bistro</th>\n",
              "      <th>Boat or Ferry</th>\n",
              "      <th>Bookstore</th>\n",
              "      <th>Botanical Garden</th>\n",
              "      <th>Boutique</th>\n",
              "      <th>...</th>\n",
              "      <th>Shopping Mall</th>\n",
              "      <th>Shopping Plaza</th>\n",
              "      <th>Skate Park</th>\n",
              "      <th>Skating Rink</th>\n",
              "      <th>Smoke Shop</th>\n",
              "      <th>Smoothie Shop</th>\n",
              "      <th>Snack Place</th>\n",
              "      <th>Soccer Field</th>\n",
              "      <th>Soccer Stadium</th>\n",
              "      <th>Spa</th>\n",
              "      <th>Speakeasy</th>\n",
              "      <th>Spiritual Center</th>\n",
              "      <th>Sporting Goods Shop</th>\n",
              "      <th>Steakhouse</th>\n",
              "      <th>Storage Facility</th>\n",
              "      <th>Supermarket</th>\n",
              "      <th>Supplement Shop</th>\n",
              "      <th>Swim School</th>\n",
              "      <th>Taco Place</th>\n",
              "      <th>Tanning Salon</th>\n",
              "      <th>Tattoo Parlor</th>\n",
              "      <th>Taxi Stand</th>\n",
              "      <th>Tea Room</th>\n",
              "      <th>Tennis Court</th>\n",
              "      <th>Theater</th>\n",
              "      <th>Thrift / Vintage Store</th>\n",
              "      <th>Toll Booth</th>\n",
              "      <th>Toy / Game Store</th>\n",
              "      <th>Trail</th>\n",
              "      <th>Travel &amp; Transport</th>\n",
              "      <th>Travel Agency</th>\n",
              "      <th>Vehicle Inspection Station</th>\n",
              "      <th>Video Game Store</th>\n",
              "      <th>Video Store</th>\n",
              "      <th>Warehouse Store</th>\n",
              "      <th>Weight Loss Center</th>\n",
              "      <th>Wine Shop</th>\n",
              "      <th>Wings Joint</th>\n",
              "      <th>Women's Store</th>\n",
              "      <th>Yoga Studio</th>\n",
              "    </tr>\n",
              "  </thead>\n",
              "  <tbody>\n",
              "    <tr>\n",
              "      <th>0</th>\n",
              "      <td>77000</td>\n",
              "      <td>29.711257</td>\n",
              "      <td>-95.304936</td>\n",
              "      <td>0.037037</td>\n",
              "      <td>0.0</td>\n",
              "      <td>0.0</td>\n",
              "      <td>0.0</td>\n",
              "      <td>0.0</td>\n",
              "      <td>0.0</td>\n",
              "      <td>0.0</td>\n",
              "      <td>0.0</td>\n",
              "      <td>0.0</td>\n",
              "      <td>0.00</td>\n",
              "      <td>0.0</td>\n",
              "      <td>0.0</td>\n",
              "      <td>0.0</td>\n",
              "      <td>0.0</td>\n",
              "      <td>0.000000</td>\n",
              "      <td>0.0</td>\n",
              "      <td>0.0</td>\n",
              "      <td>0.0</td>\n",
              "      <td>0.000000</td>\n",
              "      <td>0.00</td>\n",
              "      <td>0.000000</td>\n",
              "      <td>0.0</td>\n",
              "      <td>0.000000</td>\n",
              "      <td>0.0</td>\n",
              "      <td>0.00</td>\n",
              "      <td>0.00</td>\n",
              "      <td>0.00</td>\n",
              "      <td>0.000000</td>\n",
              "      <td>0.00</td>\n",
              "      <td>0.0</td>\n",
              "      <td>0.0</td>\n",
              "      <td>0.0</td>\n",
              "      <td>0.00</td>\n",
              "      <td>0.0</td>\n",
              "      <td>0.0</td>\n",
              "      <td>0.0</td>\n",
              "      <td>0.0</td>\n",
              "      <td>...</td>\n",
              "      <td>0.00</td>\n",
              "      <td>0.0</td>\n",
              "      <td>0.0</td>\n",
              "      <td>0.0</td>\n",
              "      <td>0.037037</td>\n",
              "      <td>0.0</td>\n",
              "      <td>0.037037</td>\n",
              "      <td>0.0</td>\n",
              "      <td>0.000000</td>\n",
              "      <td>0.00</td>\n",
              "      <td>0.0</td>\n",
              "      <td>0.0</td>\n",
              "      <td>0.000000</td>\n",
              "      <td>0.00</td>\n",
              "      <td>0.0</td>\n",
              "      <td>0.00</td>\n",
              "      <td>0.0</td>\n",
              "      <td>0.0</td>\n",
              "      <td>0.037037</td>\n",
              "      <td>0.0</td>\n",
              "      <td>0.0</td>\n",
              "      <td>0.0</td>\n",
              "      <td>0.0</td>\n",
              "      <td>0.0</td>\n",
              "      <td>0.00</td>\n",
              "      <td>0.0</td>\n",
              "      <td>0.0</td>\n",
              "      <td>0.0</td>\n",
              "      <td>0.0</td>\n",
              "      <td>0.0</td>\n",
              "      <td>0.0</td>\n",
              "      <td>0.0</td>\n",
              "      <td>0.0</td>\n",
              "      <td>0.0</td>\n",
              "      <td>0.037037</td>\n",
              "      <td>0.0</td>\n",
              "      <td>0.0</td>\n",
              "      <td>0.0</td>\n",
              "      <td>0.0</td>\n",
              "      <td>0.0</td>\n",
              "    </tr>\n",
              "    <tr>\n",
              "      <th>1</th>\n",
              "      <td>77001</td>\n",
              "      <td>29.813142</td>\n",
              "      <td>-95.309789</td>\n",
              "      <td>0.000000</td>\n",
              "      <td>0.0</td>\n",
              "      <td>0.0</td>\n",
              "      <td>0.0</td>\n",
              "      <td>0.0</td>\n",
              "      <td>0.0</td>\n",
              "      <td>0.0</td>\n",
              "      <td>0.0</td>\n",
              "      <td>0.0</td>\n",
              "      <td>0.00</td>\n",
              "      <td>0.0</td>\n",
              "      <td>0.0</td>\n",
              "      <td>0.0</td>\n",
              "      <td>0.0</td>\n",
              "      <td>0.000000</td>\n",
              "      <td>0.0</td>\n",
              "      <td>0.0</td>\n",
              "      <td>0.0</td>\n",
              "      <td>0.000000</td>\n",
              "      <td>0.00</td>\n",
              "      <td>0.000000</td>\n",
              "      <td>0.0</td>\n",
              "      <td>0.000000</td>\n",
              "      <td>0.0</td>\n",
              "      <td>0.00</td>\n",
              "      <td>0.00</td>\n",
              "      <td>0.00</td>\n",
              "      <td>0.000000</td>\n",
              "      <td>0.00</td>\n",
              "      <td>0.0</td>\n",
              "      <td>0.0</td>\n",
              "      <td>0.0</td>\n",
              "      <td>0.00</td>\n",
              "      <td>0.0</td>\n",
              "      <td>0.0</td>\n",
              "      <td>0.0</td>\n",
              "      <td>0.0</td>\n",
              "      <td>...</td>\n",
              "      <td>0.00</td>\n",
              "      <td>0.0</td>\n",
              "      <td>0.0</td>\n",
              "      <td>0.0</td>\n",
              "      <td>0.000000</td>\n",
              "      <td>0.0</td>\n",
              "      <td>0.000000</td>\n",
              "      <td>0.0</td>\n",
              "      <td>0.000000</td>\n",
              "      <td>0.00</td>\n",
              "      <td>0.0</td>\n",
              "      <td>0.0</td>\n",
              "      <td>0.000000</td>\n",
              "      <td>0.00</td>\n",
              "      <td>0.0</td>\n",
              "      <td>0.00</td>\n",
              "      <td>0.0</td>\n",
              "      <td>0.0</td>\n",
              "      <td>0.000000</td>\n",
              "      <td>0.0</td>\n",
              "      <td>0.0</td>\n",
              "      <td>0.0</td>\n",
              "      <td>0.0</td>\n",
              "      <td>0.0</td>\n",
              "      <td>0.00</td>\n",
              "      <td>0.0</td>\n",
              "      <td>0.0</td>\n",
              "      <td>0.0</td>\n",
              "      <td>0.0</td>\n",
              "      <td>0.0</td>\n",
              "      <td>0.0</td>\n",
              "      <td>0.0</td>\n",
              "      <td>0.0</td>\n",
              "      <td>0.0</td>\n",
              "      <td>0.000000</td>\n",
              "      <td>0.0</td>\n",
              "      <td>0.0</td>\n",
              "      <td>0.0</td>\n",
              "      <td>0.0</td>\n",
              "      <td>0.0</td>\n",
              "    </tr>\n",
              "    <tr>\n",
              "      <th>2</th>\n",
              "      <td>77002</td>\n",
              "      <td>29.755578</td>\n",
              "      <td>-95.365310</td>\n",
              "      <td>0.000000</td>\n",
              "      <td>0.0</td>\n",
              "      <td>0.0</td>\n",
              "      <td>0.0</td>\n",
              "      <td>0.0</td>\n",
              "      <td>0.0</td>\n",
              "      <td>0.0</td>\n",
              "      <td>0.0</td>\n",
              "      <td>0.0</td>\n",
              "      <td>0.00</td>\n",
              "      <td>0.0</td>\n",
              "      <td>0.0</td>\n",
              "      <td>0.0</td>\n",
              "      <td>0.0</td>\n",
              "      <td>0.000000</td>\n",
              "      <td>0.0</td>\n",
              "      <td>0.0</td>\n",
              "      <td>0.0</td>\n",
              "      <td>0.010000</td>\n",
              "      <td>0.00</td>\n",
              "      <td>0.000000</td>\n",
              "      <td>0.0</td>\n",
              "      <td>0.120000</td>\n",
              "      <td>0.0</td>\n",
              "      <td>0.02</td>\n",
              "      <td>0.01</td>\n",
              "      <td>0.01</td>\n",
              "      <td>0.010000</td>\n",
              "      <td>0.01</td>\n",
              "      <td>0.0</td>\n",
              "      <td>0.0</td>\n",
              "      <td>0.0</td>\n",
              "      <td>0.01</td>\n",
              "      <td>0.0</td>\n",
              "      <td>0.0</td>\n",
              "      <td>0.0</td>\n",
              "      <td>0.0</td>\n",
              "      <td>...</td>\n",
              "      <td>0.01</td>\n",
              "      <td>0.0</td>\n",
              "      <td>0.0</td>\n",
              "      <td>0.0</td>\n",
              "      <td>0.000000</td>\n",
              "      <td>0.0</td>\n",
              "      <td>0.000000</td>\n",
              "      <td>0.0</td>\n",
              "      <td>0.000000</td>\n",
              "      <td>0.01</td>\n",
              "      <td>0.0</td>\n",
              "      <td>0.0</td>\n",
              "      <td>0.000000</td>\n",
              "      <td>0.02</td>\n",
              "      <td>0.0</td>\n",
              "      <td>0.01</td>\n",
              "      <td>0.0</td>\n",
              "      <td>0.0</td>\n",
              "      <td>0.010000</td>\n",
              "      <td>0.0</td>\n",
              "      <td>0.0</td>\n",
              "      <td>0.0</td>\n",
              "      <td>0.0</td>\n",
              "      <td>0.0</td>\n",
              "      <td>0.03</td>\n",
              "      <td>0.0</td>\n",
              "      <td>0.0</td>\n",
              "      <td>0.0</td>\n",
              "      <td>0.0</td>\n",
              "      <td>0.0</td>\n",
              "      <td>0.0</td>\n",
              "      <td>0.0</td>\n",
              "      <td>0.0</td>\n",
              "      <td>0.0</td>\n",
              "      <td>0.000000</td>\n",
              "      <td>0.0</td>\n",
              "      <td>0.0</td>\n",
              "      <td>0.0</td>\n",
              "      <td>0.0</td>\n",
              "      <td>0.0</td>\n",
              "    </tr>\n",
              "    <tr>\n",
              "      <th>3</th>\n",
              "      <td>77003</td>\n",
              "      <td>29.749278</td>\n",
              "      <td>-95.347410</td>\n",
              "      <td>0.000000</td>\n",
              "      <td>0.0</td>\n",
              "      <td>0.0</td>\n",
              "      <td>0.0</td>\n",
              "      <td>0.0</td>\n",
              "      <td>0.0</td>\n",
              "      <td>0.0</td>\n",
              "      <td>0.0</td>\n",
              "      <td>0.0</td>\n",
              "      <td>0.00</td>\n",
              "      <td>0.0</td>\n",
              "      <td>0.0</td>\n",
              "      <td>0.0</td>\n",
              "      <td>0.0</td>\n",
              "      <td>0.016129</td>\n",
              "      <td>0.0</td>\n",
              "      <td>0.0</td>\n",
              "      <td>0.0</td>\n",
              "      <td>0.016129</td>\n",
              "      <td>0.00</td>\n",
              "      <td>0.016129</td>\n",
              "      <td>0.0</td>\n",
              "      <td>0.145161</td>\n",
              "      <td>0.0</td>\n",
              "      <td>0.00</td>\n",
              "      <td>0.00</td>\n",
              "      <td>0.00</td>\n",
              "      <td>0.048387</td>\n",
              "      <td>0.00</td>\n",
              "      <td>0.0</td>\n",
              "      <td>0.0</td>\n",
              "      <td>0.0</td>\n",
              "      <td>0.00</td>\n",
              "      <td>0.0</td>\n",
              "      <td>0.0</td>\n",
              "      <td>0.0</td>\n",
              "      <td>0.0</td>\n",
              "      <td>...</td>\n",
              "      <td>0.00</td>\n",
              "      <td>0.0</td>\n",
              "      <td>0.0</td>\n",
              "      <td>0.0</td>\n",
              "      <td>0.000000</td>\n",
              "      <td>0.0</td>\n",
              "      <td>0.000000</td>\n",
              "      <td>0.0</td>\n",
              "      <td>0.048387</td>\n",
              "      <td>0.00</td>\n",
              "      <td>0.0</td>\n",
              "      <td>0.0</td>\n",
              "      <td>0.016129</td>\n",
              "      <td>0.00</td>\n",
              "      <td>0.0</td>\n",
              "      <td>0.00</td>\n",
              "      <td>0.0</td>\n",
              "      <td>0.0</td>\n",
              "      <td>0.000000</td>\n",
              "      <td>0.0</td>\n",
              "      <td>0.0</td>\n",
              "      <td>0.0</td>\n",
              "      <td>0.0</td>\n",
              "      <td>0.0</td>\n",
              "      <td>0.00</td>\n",
              "      <td>0.0</td>\n",
              "      <td>0.0</td>\n",
              "      <td>0.0</td>\n",
              "      <td>0.0</td>\n",
              "      <td>0.0</td>\n",
              "      <td>0.0</td>\n",
              "      <td>0.0</td>\n",
              "      <td>0.0</td>\n",
              "      <td>0.0</td>\n",
              "      <td>0.000000</td>\n",
              "      <td>0.0</td>\n",
              "      <td>0.0</td>\n",
              "      <td>0.0</td>\n",
              "      <td>0.0</td>\n",
              "      <td>0.0</td>\n",
              "    </tr>\n",
              "    <tr>\n",
              "      <th>4</th>\n",
              "      <td>77004</td>\n",
              "      <td>29.728779</td>\n",
              "      <td>-95.365700</td>\n",
              "      <td>0.000000</td>\n",
              "      <td>0.0</td>\n",
              "      <td>0.0</td>\n",
              "      <td>0.0</td>\n",
              "      <td>0.0</td>\n",
              "      <td>0.0</td>\n",
              "      <td>0.0</td>\n",
              "      <td>0.0</td>\n",
              "      <td>0.0</td>\n",
              "      <td>0.05</td>\n",
              "      <td>0.0</td>\n",
              "      <td>0.0</td>\n",
              "      <td>0.0</td>\n",
              "      <td>0.0</td>\n",
              "      <td>0.000000</td>\n",
              "      <td>0.0</td>\n",
              "      <td>0.0</td>\n",
              "      <td>0.0</td>\n",
              "      <td>0.000000</td>\n",
              "      <td>0.05</td>\n",
              "      <td>0.050000</td>\n",
              "      <td>0.0</td>\n",
              "      <td>0.100000</td>\n",
              "      <td>0.0</td>\n",
              "      <td>0.00</td>\n",
              "      <td>0.00</td>\n",
              "      <td>0.00</td>\n",
              "      <td>0.000000</td>\n",
              "      <td>0.00</td>\n",
              "      <td>0.0</td>\n",
              "      <td>0.0</td>\n",
              "      <td>0.0</td>\n",
              "      <td>0.00</td>\n",
              "      <td>0.0</td>\n",
              "      <td>0.0</td>\n",
              "      <td>0.0</td>\n",
              "      <td>0.0</td>\n",
              "      <td>...</td>\n",
              "      <td>0.00</td>\n",
              "      <td>0.0</td>\n",
              "      <td>0.0</td>\n",
              "      <td>0.0</td>\n",
              "      <td>0.000000</td>\n",
              "      <td>0.0</td>\n",
              "      <td>0.000000</td>\n",
              "      <td>0.0</td>\n",
              "      <td>0.000000</td>\n",
              "      <td>0.00</td>\n",
              "      <td>0.0</td>\n",
              "      <td>0.0</td>\n",
              "      <td>0.000000</td>\n",
              "      <td>0.00</td>\n",
              "      <td>0.0</td>\n",
              "      <td>0.00</td>\n",
              "      <td>0.0</td>\n",
              "      <td>0.0</td>\n",
              "      <td>0.000000</td>\n",
              "      <td>0.0</td>\n",
              "      <td>0.0</td>\n",
              "      <td>0.0</td>\n",
              "      <td>0.0</td>\n",
              "      <td>0.0</td>\n",
              "      <td>0.05</td>\n",
              "      <td>0.0</td>\n",
              "      <td>0.0</td>\n",
              "      <td>0.0</td>\n",
              "      <td>0.0</td>\n",
              "      <td>0.0</td>\n",
              "      <td>0.0</td>\n",
              "      <td>0.0</td>\n",
              "      <td>0.0</td>\n",
              "      <td>0.0</td>\n",
              "      <td>0.000000</td>\n",
              "      <td>0.0</td>\n",
              "      <td>0.0</td>\n",
              "      <td>0.0</td>\n",
              "      <td>0.0</td>\n",
              "      <td>0.0</td>\n",
              "    </tr>\n",
              "  </tbody>\n",
              "</table>\n",
              "<p>5 rows × 257 columns</p>\n",
              "</div>"
            ],
            "text/plain": [
              "   Zip_Code   Latitude  Longitude  ...  Wings Joint  Women's Store  Yoga Studio\n",
              "0     77000  29.711257 -95.304936  ...          0.0            0.0          0.0\n",
              "1     77001  29.813142 -95.309789  ...          0.0            0.0          0.0\n",
              "2     77002  29.755578 -95.365310  ...          0.0            0.0          0.0\n",
              "3     77003  29.749278 -95.347410  ...          0.0            0.0          0.0\n",
              "4     77004  29.728779 -95.365700  ...          0.0            0.0          0.0\n",
              "\n",
              "[5 rows x 257 columns]"
            ]
          },
          "metadata": {
            "tags": []
          },
          "execution_count": 29
        }
      ]
    },
    {
      "cell_type": "code",
      "metadata": {
        "id": "rOwmZdW1BqW4",
        "outputId": "4f11b94b-6567-4b97-ded5-e3c051ed8063",
        "colab": {
          "base_uri": "https://localhost:8080/",
          "height": 34
        }
      },
      "source": [
        "# convert the Zip_Code column into string\n",
        "houston_suburb_grouped['Zip_Code']=houston_suburb_grouped['Zip_Code'].apply(str)\n",
        "\n",
        "# confirm the new size\n",
        "houston_suburb_grouped.shape"
      ],
      "execution_count": 30,
      "outputs": [
        {
          "output_type": "execute_result",
          "data": {
            "text/plain": [
              "(217, 257)"
            ]
          },
          "metadata": {
            "tags": []
          },
          "execution_count": 30
        }
      ]
    },
    {
      "cell_type": "markdown",
      "metadata": {
        "id": "3HId8ICNom1g"
      },
      "source": [
        "### Find the matching city for each zip code (to be used in Cluster Analysis section)"
      ]
    },
    {
      "cell_type": "code",
      "metadata": {
        "id": "fQ8gJK5gy7I2",
        "outputId": "992119a7-fb85-422c-fd72-63a21b0f03b0",
        "colab": {
          "base_uri": "https://localhost:8080/",
          "height": 419
        }
      },
      "source": [
        "# Find the corressponding city to the zip codes where the venues are found\n",
        "location_df=houston_suburb_venues[['Zip_Code','City']]\n",
        "\n",
        "# only keep the unique zip codes\n",
        "location_df=location_df.drop_duplicates(['Zip_Code'])\n",
        "\n",
        "location_df"
      ],
      "execution_count": 31,
      "outputs": [
        {
          "output_type": "execute_result",
          "data": {
            "text/html": [
              "<div>\n",
              "<style scoped>\n",
              "    .dataframe tbody tr th:only-of-type {\n",
              "        vertical-align: middle;\n",
              "    }\n",
              "\n",
              "    .dataframe tbody tr th {\n",
              "        vertical-align: top;\n",
              "    }\n",
              "\n",
              "    .dataframe thead th {\n",
              "        text-align: right;\n",
              "    }\n",
              "</style>\n",
              "<table border=\"1\" class=\"dataframe\">\n",
              "  <thead>\n",
              "    <tr style=\"text-align: right;\">\n",
              "      <th></th>\n",
              "      <th>Zip_Code</th>\n",
              "      <th>City</th>\n",
              "    </tr>\n",
              "  </thead>\n",
              "  <tbody>\n",
              "    <tr>\n",
              "      <th>0</th>\n",
              "      <td>77373</td>\n",
              "      <td>Spring</td>\n",
              "    </tr>\n",
              "    <tr>\n",
              "      <th>24</th>\n",
              "      <td>77005</td>\n",
              "      <td>Houston</td>\n",
              "    </tr>\n",
              "    <tr>\n",
              "      <th>44</th>\n",
              "      <td>77088</td>\n",
              "      <td>Houston</td>\n",
              "    </tr>\n",
              "    <tr>\n",
              "      <th>49</th>\n",
              "      <td>77066</td>\n",
              "      <td>Houston</td>\n",
              "    </tr>\n",
              "    <tr>\n",
              "      <th>57</th>\n",
              "      <td>77203</td>\n",
              "      <td>Houston</td>\n",
              "    </tr>\n",
              "    <tr>\n",
              "      <th>...</th>\n",
              "      <td>...</td>\n",
              "      <td>...</td>\n",
              "    </tr>\n",
              "    <tr>\n",
              "      <th>6959</th>\n",
              "      <td>77008</td>\n",
              "      <td>Houston</td>\n",
              "    </tr>\n",
              "    <tr>\n",
              "      <th>7059</th>\n",
              "      <td>77238</td>\n",
              "      <td>Houston</td>\n",
              "    </tr>\n",
              "    <tr>\n",
              "      <th>7102</th>\n",
              "      <td>77086</td>\n",
              "      <td>Houston</td>\n",
              "    </tr>\n",
              "    <tr>\n",
              "      <th>7135</th>\n",
              "      <td>77248</td>\n",
              "      <td>Houston</td>\n",
              "    </tr>\n",
              "    <tr>\n",
              "      <th>7178</th>\n",
              "      <td>77026</td>\n",
              "      <td>Houston</td>\n",
              "    </tr>\n",
              "  </tbody>\n",
              "</table>\n",
              "<p>217 rows × 2 columns</p>\n",
              "</div>"
            ],
            "text/plain": [
              "      Zip_Code     City\n",
              "0        77373   Spring\n",
              "24       77005  Houston\n",
              "44       77088  Houston\n",
              "49       77066  Houston\n",
              "57       77203  Houston\n",
              "...        ...      ...\n",
              "6959     77008  Houston\n",
              "7059     77238  Houston\n",
              "7102     77086  Houston\n",
              "7135     77248  Houston\n",
              "7178     77026  Houston\n",
              "\n",
              "[217 rows x 2 columns]"
            ]
          },
          "metadata": {
            "tags": []
          },
          "execution_count": 31
        }
      ]
    },
    {
      "cell_type": "code",
      "metadata": {
        "id": "4IjiruzleBEf"
      },
      "source": [
        "# convert the Zip_code comumn into string\n",
        "location_df['Zip_Code']=location_df['Zip_Code'].apply(str)"
      ],
      "execution_count": 32,
      "outputs": []
    },
    {
      "cell_type": "markdown",
      "metadata": {
        "id": "0Gdve7vPBqW9"
      },
      "source": [
        "### Create a Function to sort the venues in descending order"
      ]
    },
    {
      "cell_type": "code",
      "metadata": {
        "id": "DJf-eX3pBqW9"
      },
      "source": [
        "def return_most_common_venues(row, num_top_venues):\n",
        "    row_categories = row.iloc[1:]\n",
        "    row_categories_sorted = row_categories.sort_values(ascending=False)\n",
        "    \n",
        "    return row_categories_sorted.index.values[0:num_top_venues]"
      ],
      "execution_count": 34,
      "outputs": []
    },
    {
      "cell_type": "markdown",
      "metadata": {
        "id": "6LbNvOAcBqW_"
      },
      "source": [
        "## Create a new dataframe which includes 7 most frequent venues for each zipcode"
      ]
    },
    {
      "cell_type": "code",
      "metadata": {
        "id": "2zFM8TciBqW_",
        "outputId": "1384e9c5-4d59-4a7b-bc52-603f0dd0ffb8",
        "colab": {
          "base_uri": "https://localhost:8080/",
          "height": 204
        }
      },
      "source": [
        "num_top_venues = 7\n",
        "\n",
        "indicators = ['st', 'nd', 'rd']\n",
        "\n",
        "# create columns according to number of top venues\n",
        "columns = ['Zip_Code']\n",
        "for ind in np.arange(num_top_venues):\n",
        "    try:\n",
        "        columns.append('{}{} Most_Common_Venue'.format(ind+1, indicators[ind]))\n",
        "    except:\n",
        "        columns.append('{}th Most_Common_Venue'.format(ind+1))\n",
        "\n",
        "# create a new dataframe\n",
        "neighborhoods_venues_sorted = pd.DataFrame(columns=columns)\n",
        "neighborhoods_venues_sorted['Zip_Code'] = houston_suburb_grouped['Zip_Code']\n",
        "\n",
        "for ind in np.arange(houston_suburb_grouped.shape[0]):\n",
        "    neighborhoods_venues_sorted.iloc[ind, 1:] = return_most_common_venues(houston_suburb_grouped.iloc[ind, 3:], num_top_venues)\n",
        "\n",
        "neighborhoods_venues_sorted.head()\n"
      ],
      "execution_count": 35,
      "outputs": [
        {
          "output_type": "execute_result",
          "data": {
            "text/html": [
              "<div>\n",
              "<style scoped>\n",
              "    .dataframe tbody tr th:only-of-type {\n",
              "        vertical-align: middle;\n",
              "    }\n",
              "\n",
              "    .dataframe tbody tr th {\n",
              "        vertical-align: top;\n",
              "    }\n",
              "\n",
              "    .dataframe thead th {\n",
              "        text-align: right;\n",
              "    }\n",
              "</style>\n",
              "<table border=\"1\" class=\"dataframe\">\n",
              "  <thead>\n",
              "    <tr style=\"text-align: right;\">\n",
              "      <th></th>\n",
              "      <th>Zip_Code</th>\n",
              "      <th>1st Most_Common_Venue</th>\n",
              "      <th>2nd Most_Common_Venue</th>\n",
              "      <th>3rd Most_Common_Venue</th>\n",
              "      <th>4th Most_Common_Venue</th>\n",
              "      <th>5th Most_Common_Venue</th>\n",
              "      <th>6th Most_Common_Venue</th>\n",
              "      <th>7th Most_Common_Venue</th>\n",
              "    </tr>\n",
              "  </thead>\n",
              "  <tbody>\n",
              "    <tr>\n",
              "      <th>0</th>\n",
              "      <td>77000</td>\n",
              "      <td>Restaurant</td>\n",
              "      <td>Discount Store</td>\n",
              "      <td>Smoke Shop</td>\n",
              "      <td>Food Truck</td>\n",
              "      <td>Taco Place</td>\n",
              "      <td>Insurance Office</td>\n",
              "      <td>Lawyer</td>\n",
              "    </tr>\n",
              "    <tr>\n",
              "      <th>1</th>\n",
              "      <td>77001</td>\n",
              "      <td>Restaurant</td>\n",
              "      <td>Gas Station</td>\n",
              "      <td>Discount Store</td>\n",
              "      <td>Sandwich Place</td>\n",
              "      <td>Fried Chicken Joint</td>\n",
              "      <td>Department Store</td>\n",
              "      <td>Burger Joint</td>\n",
              "    </tr>\n",
              "    <tr>\n",
              "      <th>2</th>\n",
              "      <td>77002</td>\n",
              "      <td>Restaurant</td>\n",
              "      <td>Bar</td>\n",
              "      <td>Hotel</td>\n",
              "      <td>Gym</td>\n",
              "      <td>Park</td>\n",
              "      <td>Burger Joint</td>\n",
              "      <td>Pizza Place</td>\n",
              "    </tr>\n",
              "    <tr>\n",
              "      <th>3</th>\n",
              "      <td>77003</td>\n",
              "      <td>Restaurant</td>\n",
              "      <td>Bar</td>\n",
              "      <td>Pizza Place</td>\n",
              "      <td>Food Truck</td>\n",
              "      <td>Coffee Shop</td>\n",
              "      <td>Brewery</td>\n",
              "      <td>Soccer Stadium</td>\n",
              "    </tr>\n",
              "    <tr>\n",
              "      <th>4</th>\n",
              "      <td>77004</td>\n",
              "      <td>Restaurant</td>\n",
              "      <td>Food</td>\n",
              "      <td>Bar</td>\n",
              "      <td>Lounge</td>\n",
              "      <td>Theater</td>\n",
              "      <td>Food Service</td>\n",
              "      <td>Lawyer</td>\n",
              "    </tr>\n",
              "  </tbody>\n",
              "</table>\n",
              "</div>"
            ],
            "text/plain": [
              "  Zip_Code 1st Most_Common_Venue  ... 6th Most_Common_Venue 7th Most_Common_Venue\n",
              "0    77000            Restaurant  ...      Insurance Office                Lawyer\n",
              "1    77001            Restaurant  ...      Department Store          Burger Joint\n",
              "2    77002            Restaurant  ...          Burger Joint           Pizza Place\n",
              "3    77003            Restaurant  ...               Brewery        Soccer Stadium\n",
              "4    77004            Restaurant  ...          Food Service                Lawyer\n",
              "\n",
              "[5 rows x 8 columns]"
            ]
          },
          "metadata": {
            "tags": []
          },
          "execution_count": 35
        }
      ]
    },
    {
      "cell_type": "markdown",
      "metadata": {
        "id": "RKbEqSsnBqXA"
      },
      "source": [
        "# 4. Cluster Houston and Suburb zip codes based on the most frequent venues Using K-Means Clustering"
      ]
    },
    {
      "cell_type": "code",
      "metadata": {
        "id": "snRA37B4BqXB",
        "outputId": "99d85ced-baf4-40fc-f58a-ee66f85f1520",
        "colab": {
          "base_uri": "https://localhost:8080/",
          "height": 204
        }
      },
      "source": [
        "from sklearn.cluster import KMeans\n",
        "\n",
        "# set number of clusters\n",
        "kclusters = 6\n",
        "\n",
        "houston_sub_grouped_clust_df = houston_suburb_grouped.drop(['Zip_Code','Latitude', 'Longitude'], 1)\n",
        "\n",
        "# run k-means clustering\n",
        "kmeans = KMeans(n_clusters=kclusters, random_state=0).fit(houston_sub_grouped_clust_df)\n",
        "\n",
        "# check cluster labels generated for each row in the dataframe\n",
        "kmeans.labels_"
      ],
      "execution_count": 36,
      "outputs": [
        {
          "output_type": "execute_result",
          "data": {
            "text/plain": [
              "array([1, 1, 1, 1, 1, 0, 1, 1, 1, 1, 1, 1, 1, 1, 0, 1, 0, 0, 0, 1, 1, 0,\n",
              "       1, 1, 3, 0, 1, 1, 3, 3, 1, 0, 1, 0, 0, 0, 1, 0, 1, 1, 0, 1, 1, 0,\n",
              "       0, 0, 1, 3, 0, 1, 4, 1, 1, 1, 1, 1, 1, 1, 1, 1, 1, 1, 0, 1, 1, 1,\n",
              "       0, 3, 2, 2, 1, 0, 1, 4, 0, 1, 1, 1, 1, 1, 1, 1, 0, 1, 1, 0, 1, 1,\n",
              "       1, 1, 1, 3, 1, 0, 5, 0, 0, 0, 1, 1, 0, 0, 0, 0, 0, 0, 0, 0, 0, 0,\n",
              "       0, 0, 0, 0, 0, 0, 0, 0, 0, 0, 0, 0, 0, 0, 0, 0, 0, 0, 0, 0, 0, 0,\n",
              "       0, 0, 0, 0, 0, 0, 0, 0, 0, 0, 0, 0, 0, 0, 0, 0, 0, 0, 0, 0, 0, 0,\n",
              "       0, 0, 0, 0, 0, 0, 0, 0, 0, 0, 0, 0, 0, 0, 0, 0, 0, 0, 0, 0, 0, 0,\n",
              "       0, 0, 0, 0, 0, 0, 1, 0, 0, 1, 0, 0, 1, 0, 0, 1, 0, 1, 4, 0, 2, 0,\n",
              "       1, 3, 1, 1, 1, 0, 3, 0, 0, 0, 3, 3, 0, 1, 0, 1, 0, 1, 1],\n",
              "      dtype=int32)"
            ]
          },
          "metadata": {
            "tags": []
          },
          "execution_count": 36
        }
      ]
    },
    {
      "cell_type": "markdown",
      "metadata": {
        "id": "nDvKCV0sBqXE"
      },
      "source": [
        "### Create a new dataframe that includes the clusters as well as the top 7 venues for each neighborhood."
      ]
    },
    {
      "cell_type": "code",
      "metadata": {
        "id": "l-ddKbdnBqXF",
        "outputId": "255c7482-b111-4f33-de85-6bd365a52b3c",
        "colab": {
          "base_uri": "https://localhost:8080/",
          "height": 221
        }
      },
      "source": [
        "# add clustering labels\n",
        "neighborhoods_venues_sorted.insert(0, 'Cluster_Labels', kmeans.labels_)\n",
        "\n",
        "# insert the location data to the dataframe\n",
        "neighborhoods_venues_sorted.insert(1, 'Latitude', houston_suburb_grouped['Latitude'])\n",
        "neighborhoods_venues_sorted.insert(2, 'Longitude', houston_suburb_grouped['Longitude'])\n",
        "\n",
        "houston_sub_clust_merged = neighborhoods_venues_sorted.copy()\n",
        "\n",
        "# change the column to integer\n",
        "houston_sub_clust_merged['Cluster_Labels']=houston_sub_clust_merged['Cluster_Labels'].astype(int)\n",
        "\n",
        "houston_sub_clust_merged.head() # check the last columns!"
      ],
      "execution_count": 37,
      "outputs": [
        {
          "output_type": "execute_result",
          "data": {
            "text/html": [
              "<div>\n",
              "<style scoped>\n",
              "    .dataframe tbody tr th:only-of-type {\n",
              "        vertical-align: middle;\n",
              "    }\n",
              "\n",
              "    .dataframe tbody tr th {\n",
              "        vertical-align: top;\n",
              "    }\n",
              "\n",
              "    .dataframe thead th {\n",
              "        text-align: right;\n",
              "    }\n",
              "</style>\n",
              "<table border=\"1\" class=\"dataframe\">\n",
              "  <thead>\n",
              "    <tr style=\"text-align: right;\">\n",
              "      <th></th>\n",
              "      <th>Cluster_Labels</th>\n",
              "      <th>Latitude</th>\n",
              "      <th>Longitude</th>\n",
              "      <th>Zip_Code</th>\n",
              "      <th>1st Most_Common_Venue</th>\n",
              "      <th>2nd Most_Common_Venue</th>\n",
              "      <th>3rd Most_Common_Venue</th>\n",
              "      <th>4th Most_Common_Venue</th>\n",
              "      <th>5th Most_Common_Venue</th>\n",
              "      <th>6th Most_Common_Venue</th>\n",
              "      <th>7th Most_Common_Venue</th>\n",
              "    </tr>\n",
              "  </thead>\n",
              "  <tbody>\n",
              "    <tr>\n",
              "      <th>0</th>\n",
              "      <td>1</td>\n",
              "      <td>29.711257</td>\n",
              "      <td>-95.304936</td>\n",
              "      <td>77000</td>\n",
              "      <td>Restaurant</td>\n",
              "      <td>Discount Store</td>\n",
              "      <td>Smoke Shop</td>\n",
              "      <td>Food Truck</td>\n",
              "      <td>Taco Place</td>\n",
              "      <td>Insurance Office</td>\n",
              "      <td>Lawyer</td>\n",
              "    </tr>\n",
              "    <tr>\n",
              "      <th>1</th>\n",
              "      <td>1</td>\n",
              "      <td>29.813142</td>\n",
              "      <td>-95.309789</td>\n",
              "      <td>77001</td>\n",
              "      <td>Restaurant</td>\n",
              "      <td>Gas Station</td>\n",
              "      <td>Discount Store</td>\n",
              "      <td>Sandwich Place</td>\n",
              "      <td>Fried Chicken Joint</td>\n",
              "      <td>Department Store</td>\n",
              "      <td>Burger Joint</td>\n",
              "    </tr>\n",
              "    <tr>\n",
              "      <th>2</th>\n",
              "      <td>1</td>\n",
              "      <td>29.755578</td>\n",
              "      <td>-95.365310</td>\n",
              "      <td>77002</td>\n",
              "      <td>Restaurant</td>\n",
              "      <td>Bar</td>\n",
              "      <td>Hotel</td>\n",
              "      <td>Gym</td>\n",
              "      <td>Park</td>\n",
              "      <td>Burger Joint</td>\n",
              "      <td>Pizza Place</td>\n",
              "    </tr>\n",
              "    <tr>\n",
              "      <th>3</th>\n",
              "      <td>1</td>\n",
              "      <td>29.749278</td>\n",
              "      <td>-95.347410</td>\n",
              "      <td>77003</td>\n",
              "      <td>Restaurant</td>\n",
              "      <td>Bar</td>\n",
              "      <td>Pizza Place</td>\n",
              "      <td>Food Truck</td>\n",
              "      <td>Coffee Shop</td>\n",
              "      <td>Brewery</td>\n",
              "      <td>Soccer Stadium</td>\n",
              "    </tr>\n",
              "    <tr>\n",
              "      <th>4</th>\n",
              "      <td>1</td>\n",
              "      <td>29.728779</td>\n",
              "      <td>-95.365700</td>\n",
              "      <td>77004</td>\n",
              "      <td>Restaurant</td>\n",
              "      <td>Food</td>\n",
              "      <td>Bar</td>\n",
              "      <td>Lounge</td>\n",
              "      <td>Theater</td>\n",
              "      <td>Food Service</td>\n",
              "      <td>Lawyer</td>\n",
              "    </tr>\n",
              "  </tbody>\n",
              "</table>\n",
              "</div>"
            ],
            "text/plain": [
              "   Cluster_Labels   Latitude  ...  6th Most_Common_Venue 7th Most_Common_Venue\n",
              "0               1  29.711257  ...       Insurance Office                Lawyer\n",
              "1               1  29.813142  ...       Department Store          Burger Joint\n",
              "2               1  29.755578  ...           Burger Joint           Pizza Place\n",
              "3               1  29.749278  ...                Brewery        Soccer Stadium\n",
              "4               1  29.728779  ...           Food Service                Lawyer\n",
              "\n",
              "[5 rows x 11 columns]"
            ]
          },
          "metadata": {
            "tags": []
          },
          "execution_count": 37
        }
      ]
    },
    {
      "cell_type": "code",
      "metadata": {
        "id": "lSxEqezT94Kg",
        "outputId": "1fd2fad8-72a6-4d5e-bc0b-83c30b4d7e53",
        "colab": {
          "base_uri": "https://localhost:8080/",
          "height": 473
        }
      },
      "source": [
        "# add \"City\" to the above dataframe by merging with location_df\n",
        "houston_sub_clust_merged=houston_sub_clust_merged.merge(location_df, on='Zip_Code')\n",
        "\n",
        "\n",
        "# move Zip_Code and City column to the first and second column\n",
        "fixed_columns2 = [houston_sub_clust_merged.columns[-1]]+ list(houston_sub_clust_merged.columns[:-1])\n",
        "houston_sub_clust_merged = houston_sub_clust_merged[fixed_columns2]\n",
        "\n",
        "houston_sub_clust_merged"
      ],
      "execution_count": 38,
      "outputs": [
        {
          "output_type": "execute_result",
          "data": {
            "text/html": [
              "<div>\n",
              "<style scoped>\n",
              "    .dataframe tbody tr th:only-of-type {\n",
              "        vertical-align: middle;\n",
              "    }\n",
              "\n",
              "    .dataframe tbody tr th {\n",
              "        vertical-align: top;\n",
              "    }\n",
              "\n",
              "    .dataframe thead th {\n",
              "        text-align: right;\n",
              "    }\n",
              "</style>\n",
              "<table border=\"1\" class=\"dataframe\">\n",
              "  <thead>\n",
              "    <tr style=\"text-align: right;\">\n",
              "      <th></th>\n",
              "      <th>City</th>\n",
              "      <th>Cluster_Labels</th>\n",
              "      <th>Latitude</th>\n",
              "      <th>Longitude</th>\n",
              "      <th>Zip_Code</th>\n",
              "      <th>1st Most_Common_Venue</th>\n",
              "      <th>2nd Most_Common_Venue</th>\n",
              "      <th>3rd Most_Common_Venue</th>\n",
              "      <th>4th Most_Common_Venue</th>\n",
              "      <th>5th Most_Common_Venue</th>\n",
              "      <th>6th Most_Common_Venue</th>\n",
              "      <th>7th Most_Common_Venue</th>\n",
              "    </tr>\n",
              "  </thead>\n",
              "  <tbody>\n",
              "    <tr>\n",
              "      <th>0</th>\n",
              "      <td>Houston</td>\n",
              "      <td>1</td>\n",
              "      <td>29.711257</td>\n",
              "      <td>-95.304936</td>\n",
              "      <td>77000</td>\n",
              "      <td>Restaurant</td>\n",
              "      <td>Discount Store</td>\n",
              "      <td>Smoke Shop</td>\n",
              "      <td>Food Truck</td>\n",
              "      <td>Taco Place</td>\n",
              "      <td>Insurance Office</td>\n",
              "      <td>Lawyer</td>\n",
              "    </tr>\n",
              "    <tr>\n",
              "      <th>1</th>\n",
              "      <td>Houston</td>\n",
              "      <td>1</td>\n",
              "      <td>29.813142</td>\n",
              "      <td>-95.309789</td>\n",
              "      <td>77001</td>\n",
              "      <td>Restaurant</td>\n",
              "      <td>Gas Station</td>\n",
              "      <td>Discount Store</td>\n",
              "      <td>Sandwich Place</td>\n",
              "      <td>Fried Chicken Joint</td>\n",
              "      <td>Department Store</td>\n",
              "      <td>Burger Joint</td>\n",
              "    </tr>\n",
              "    <tr>\n",
              "      <th>2</th>\n",
              "      <td>Houston</td>\n",
              "      <td>1</td>\n",
              "      <td>29.755578</td>\n",
              "      <td>-95.365310</td>\n",
              "      <td>77002</td>\n",
              "      <td>Restaurant</td>\n",
              "      <td>Bar</td>\n",
              "      <td>Hotel</td>\n",
              "      <td>Gym</td>\n",
              "      <td>Park</td>\n",
              "      <td>Burger Joint</td>\n",
              "      <td>Pizza Place</td>\n",
              "    </tr>\n",
              "    <tr>\n",
              "      <th>3</th>\n",
              "      <td>Houston</td>\n",
              "      <td>1</td>\n",
              "      <td>29.749278</td>\n",
              "      <td>-95.347410</td>\n",
              "      <td>77003</td>\n",
              "      <td>Restaurant</td>\n",
              "      <td>Bar</td>\n",
              "      <td>Pizza Place</td>\n",
              "      <td>Food Truck</td>\n",
              "      <td>Coffee Shop</td>\n",
              "      <td>Brewery</td>\n",
              "      <td>Soccer Stadium</td>\n",
              "    </tr>\n",
              "    <tr>\n",
              "      <th>4</th>\n",
              "      <td>Houston</td>\n",
              "      <td>1</td>\n",
              "      <td>29.728779</td>\n",
              "      <td>-95.365700</td>\n",
              "      <td>77004</td>\n",
              "      <td>Restaurant</td>\n",
              "      <td>Food</td>\n",
              "      <td>Bar</td>\n",
              "      <td>Lounge</td>\n",
              "      <td>Theater</td>\n",
              "      <td>Food Service</td>\n",
              "      <td>Lawyer</td>\n",
              "    </tr>\n",
              "    <tr>\n",
              "      <th>...</th>\n",
              "      <td>...</td>\n",
              "      <td>...</td>\n",
              "      <td>...</td>\n",
              "      <td>...</td>\n",
              "      <td>...</td>\n",
              "      <td>...</td>\n",
              "      <td>...</td>\n",
              "      <td>...</td>\n",
              "      <td>...</td>\n",
              "      <td>...</td>\n",
              "      <td>...</td>\n",
              "      <td>...</td>\n",
              "    </tr>\n",
              "    <tr>\n",
              "      <th>212</th>\n",
              "      <td>Pasadena</td>\n",
              "      <td>0</td>\n",
              "      <td>29.695028</td>\n",
              "      <td>-95.157980</td>\n",
              "      <td>77503</td>\n",
              "      <td>Baseball Field</td>\n",
              "      <td>Convenience Store</td>\n",
              "      <td>Automotive Shop</td>\n",
              "      <td>Bakery</td>\n",
              "      <td>Soccer Field</td>\n",
              "      <td>Video Store</td>\n",
              "      <td>Restaurant</td>\n",
              "    </tr>\n",
              "    <tr>\n",
              "      <th>213</th>\n",
              "      <td>Pasadena</td>\n",
              "      <td>1</td>\n",
              "      <td>29.648780</td>\n",
              "      <td>-95.188130</td>\n",
              "      <td>77504</td>\n",
              "      <td>Restaurant</td>\n",
              "      <td>Discount Store</td>\n",
              "      <td>Video Store</td>\n",
              "      <td>Gas Station</td>\n",
              "      <td>Bar</td>\n",
              "      <td>Bank</td>\n",
              "      <td>Music Store</td>\n",
              "    </tr>\n",
              "    <tr>\n",
              "      <th>214</th>\n",
              "      <td>Pasadena</td>\n",
              "      <td>0</td>\n",
              "      <td>29.650492</td>\n",
              "      <td>-95.146320</td>\n",
              "      <td>77505</td>\n",
              "      <td>Cosmetics Shop</td>\n",
              "      <td>Restaurant</td>\n",
              "      <td>Coffee Shop</td>\n",
              "      <td>Mobile Phone Shop</td>\n",
              "      <td>Department Store</td>\n",
              "      <td>Clothing Store</td>\n",
              "      <td>Supplement Shop</td>\n",
              "    </tr>\n",
              "    <tr>\n",
              "      <th>215</th>\n",
              "      <td>Pasadena</td>\n",
              "      <td>1</td>\n",
              "      <td>29.705678</td>\n",
              "      <td>-95.202160</td>\n",
              "      <td>77506</td>\n",
              "      <td>Restaurant</td>\n",
              "      <td>Home Service</td>\n",
              "      <td>Shoe Store</td>\n",
              "      <td>Convenience Store</td>\n",
              "      <td>Video Store</td>\n",
              "      <td>Snack Place</td>\n",
              "      <td>BBQ Joint</td>\n",
              "    </tr>\n",
              "    <tr>\n",
              "      <th>216</th>\n",
              "      <td>Pasadena</td>\n",
              "      <td>1</td>\n",
              "      <td>29.569927</td>\n",
              "      <td>-95.106637</td>\n",
              "      <td>77508</td>\n",
              "      <td>Restaurant</td>\n",
              "      <td>Gym / Fitness Center</td>\n",
              "      <td>Pharmacy</td>\n",
              "      <td>Lawyer</td>\n",
              "      <td>Bank</td>\n",
              "      <td>Discount Store</td>\n",
              "      <td>Baseball Field</td>\n",
              "    </tr>\n",
              "  </tbody>\n",
              "</table>\n",
              "<p>217 rows × 12 columns</p>\n",
              "</div>"
            ],
            "text/plain": [
              "         City  Cluster_Labels  ...  6th Most_Common_Venue  7th Most_Common_Venue\n",
              "0     Houston               1  ...       Insurance Office                 Lawyer\n",
              "1     Houston               1  ...       Department Store           Burger Joint\n",
              "2     Houston               1  ...           Burger Joint            Pizza Place\n",
              "3     Houston               1  ...                Brewery         Soccer Stadium\n",
              "4     Houston               1  ...           Food Service                 Lawyer\n",
              "..        ...             ...  ...                    ...                    ...\n",
              "212  Pasadena               0  ...            Video Store             Restaurant\n",
              "213  Pasadena               1  ...                   Bank            Music Store\n",
              "214  Pasadena               0  ...         Clothing Store        Supplement Shop\n",
              "215  Pasadena               1  ...            Snack Place              BBQ Joint\n",
              "216  Pasadena               1  ...         Discount Store         Baseball Field\n",
              "\n",
              "[217 rows x 12 columns]"
            ]
          },
          "metadata": {
            "tags": []
          },
          "execution_count": 38
        }
      ]
    },
    {
      "cell_type": "code",
      "metadata": {
        "id": "ofIB_wKAqJKf"
      },
      "source": [
        "# convert the 'Zip_Code' and 'Cluster_Labels' to integers\n",
        "houston_sub_clust_merged['Zip_Code']=houston_sub_clust_merged['Zip_Code'].astype(int)\n",
        "houston_sub_clust_merged['Cluster_Labels']=houston_sub_clust_merged['Cluster_Labels'].astype(int)"
      ],
      "execution_count": 40,
      "outputs": []
    },
    {
      "cell_type": "markdown",
      "metadata": {
        "id": "LyCDFc5QBqXG"
      },
      "source": [
        "## Visualize the resulting clusters on the map"
      ]
    },
    {
      "cell_type": "code",
      "metadata": {
        "id": "PuPVR3leBqXH",
        "outputId": "036add57-44c6-482b-eea4-f9cc15e30563",
        "colab": {
          "base_uri": "https://localhost:8080/",
          "height": 876
        }
      },
      "source": [
        "import folium\n",
        "import matplotlib.cm as cm\n",
        "import matplotlib.colors as colors\n",
        "\n",
        "# create map\n",
        "map_clusters = folium.Map(location=[Houston_latitude, Houston_longitude], zoom_start=10)\n",
        "\n",
        "# set color scheme for the clusters\n",
        "x = np.arange(kclusters)\n",
        "ys = [i + x + (i*x)**2 for i in range(kclusters)]\n",
        "colors_array = cm.rainbow(np.linspace(0, 1, len(ys)))\n",
        "rainbow = [colors.rgb2hex(i) for i in colors_array]\n",
        "\n",
        "# add markers to the map\n",
        "markers_colors = []\n",
        "for lat, lon, zip, cluster in zip(houston_sub_clust_merged['Latitude'], \n",
        "                                  houston_sub_clust_merged['Longitude'],\n",
        "                                  houston_sub_clust_merged['Zip_Code'],\n",
        "                                  houston_sub_clust_merged['Cluster_Labels']):\n",
        "    label = folium.Popup(str(zip) + ' Cluster_' + str(cluster), parse_html=True)\n",
        "\n",
        "    folium.CircleMarker(\n",
        "        [lat, lon],\n",
        "        radius=5,\n",
        "        popup=label,\n",
        "        color=rainbow[cluster-1],\n",
        "        fill=True,\n",
        "        fill_color=rainbow[cluster-1],\n",
        "        fill_opacity=0.7).add_to(map_clusters)\n",
        "       \n",
        "\n",
        "map_clusters"
      ],
      "execution_count": 41,
      "outputs": [
        {
          "output_type": "execute_result",
          "data": {
            "text/html": [
              "<div style=\"width:100%;\"><div style=\"position:relative;width:100%;height:0;padding-bottom:60%;\"><span style=\"color:#565656\">Make this Notebook Trusted to load map: File -> Trust Notebook</span><iframe src=\"about:blank\" style=\"position:absolute;width:100%;height:100%;left:0;top:0;border:none !important;\" data-html=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 onload=\"this.contentDocument.open();this.contentDocument.write(atob(this.getAttribute('data-html')));this.contentDocument.close();\" allowfullscreen webkitallowfullscreen mozallowfullscreen></iframe></div></div>"
            ],
            "text/plain": [
              "<folium.folium.Map at 0x7f4830101400>"
            ]
          },
          "metadata": {
            "tags": []
          },
          "execution_count": 41
        }
      ]
    },
    {
      "cell_type": "markdown",
      "metadata": {
        "id": "hNGyAJkABqXI"
      },
      "source": [
        "# 5. Examine Clusters\n",
        "### Examine each cluster and determine the discriminating venue categories that distinguish each cluster. "
      ]
    },
    {
      "cell_type": "markdown",
      "metadata": {
        "id": "sPsRsNLLBqXJ"
      },
      "source": [
        "### Cluster-1"
      ]
    },
    {
      "cell_type": "code",
      "metadata": {
        "id": "EXGPYewgBqXJ",
        "outputId": "d4187027-27c6-4621-8e60-61982b5a3c1c",
        "colab": {
          "base_uri": "https://localhost:8080/",
          "height": 453
        }
      },
      "source": [
        "houston_sub_clust_1=houston_sub_clust_merged.loc[houston_sub_clust_merged['Cluster_Labels'] == 0, houston_sub_clust_merged.columns[[0] + list(range(4, houston_sub_clust_merged.shape[1]))]]\n",
        "houston_sub_clust_1"
      ],
      "execution_count": 42,
      "outputs": [
        {
          "output_type": "execute_result",
          "data": {
            "text/html": [
              "<div>\n",
              "<style scoped>\n",
              "    .dataframe tbody tr th:only-of-type {\n",
              "        vertical-align: middle;\n",
              "    }\n",
              "\n",
              "    .dataframe tbody tr th {\n",
              "        vertical-align: top;\n",
              "    }\n",
              "\n",
              "    .dataframe thead th {\n",
              "        text-align: right;\n",
              "    }\n",
              "</style>\n",
              "<table border=\"1\" class=\"dataframe\">\n",
              "  <thead>\n",
              "    <tr style=\"text-align: right;\">\n",
              "      <th></th>\n",
              "      <th>City</th>\n",
              "      <th>Zip_Code</th>\n",
              "      <th>1st Most_Common_Venue</th>\n",
              "      <th>2nd Most_Common_Venue</th>\n",
              "      <th>3rd Most_Common_Venue</th>\n",
              "      <th>4th Most_Common_Venue</th>\n",
              "      <th>5th Most_Common_Venue</th>\n",
              "      <th>6th Most_Common_Venue</th>\n",
              "      <th>7th Most_Common_Venue</th>\n",
              "    </tr>\n",
              "  </thead>\n",
              "  <tbody>\n",
              "    <tr>\n",
              "      <th>5</th>\n",
              "      <td>Houston</td>\n",
              "      <td>77005</td>\n",
              "      <td>Park</td>\n",
              "      <td>Pharmacy</td>\n",
              "      <td>Baseball Field</td>\n",
              "      <td>Kids Store</td>\n",
              "      <td>Supplement Shop</td>\n",
              "      <td>Cafeteria</td>\n",
              "      <td>Taco Place</td>\n",
              "    </tr>\n",
              "    <tr>\n",
              "      <th>14</th>\n",
              "      <td>Houston</td>\n",
              "      <td>77014</td>\n",
              "      <td>Buffet</td>\n",
              "      <td>Hotel</td>\n",
              "      <td>BBQ Joint</td>\n",
              "      <td>Golf Course</td>\n",
              "      <td>Gym</td>\n",
              "      <td>Bakery</td>\n",
              "      <td>Convenience Store</td>\n",
              "    </tr>\n",
              "    <tr>\n",
              "      <th>16</th>\n",
              "      <td>Houston</td>\n",
              "      <td>77016</td>\n",
              "      <td>Park</td>\n",
              "      <td>Spa</td>\n",
              "      <td>Food</td>\n",
              "      <td>Clothing Store</td>\n",
              "      <td>Fried Chicken Joint</td>\n",
              "      <td>Other Repair Shop</td>\n",
              "      <td>Electronics Store</td>\n",
              "    </tr>\n",
              "    <tr>\n",
              "      <th>17</th>\n",
              "      <td>Houston</td>\n",
              "      <td>77017</td>\n",
              "      <td>Baseball Field</td>\n",
              "      <td>Discount Store</td>\n",
              "      <td>Grocery Store</td>\n",
              "      <td>Outdoors &amp; Recreation</td>\n",
              "      <td>Video Store</td>\n",
              "      <td>Casino</td>\n",
              "      <td>Doctor's Office</td>\n",
              "    </tr>\n",
              "    <tr>\n",
              "      <th>18</th>\n",
              "      <td>Houston</td>\n",
              "      <td>77018</td>\n",
              "      <td>Restaurant</td>\n",
              "      <td>Bar</td>\n",
              "      <td>Pizza Place</td>\n",
              "      <td>Bank</td>\n",
              "      <td>Gas Station</td>\n",
              "      <td>Liquor Store</td>\n",
              "      <td>Cosmetics Shop</td>\n",
              "    </tr>\n",
              "    <tr>\n",
              "      <th>...</th>\n",
              "      <td>...</td>\n",
              "      <td>...</td>\n",
              "      <td>...</td>\n",
              "      <td>...</td>\n",
              "      <td>...</td>\n",
              "      <td>...</td>\n",
              "      <td>...</td>\n",
              "      <td>...</td>\n",
              "      <td>...</td>\n",
              "    </tr>\n",
              "    <tr>\n",
              "      <th>206</th>\n",
              "      <td>Katy</td>\n",
              "      <td>77492</td>\n",
              "      <td>Spa</td>\n",
              "      <td>Bar</td>\n",
              "      <td>Restaurant</td>\n",
              "      <td>Pizza Place</td>\n",
              "      <td>Gas Station</td>\n",
              "      <td>Discount Store</td>\n",
              "      <td>Cosmetics Shop</td>\n",
              "    </tr>\n",
              "    <tr>\n",
              "      <th>207</th>\n",
              "      <td>Katy</td>\n",
              "      <td>77493</td>\n",
              "      <td>Playground</td>\n",
              "      <td>Park</td>\n",
              "      <td>Construction &amp; Landscaping</td>\n",
              "      <td>Mini Golf</td>\n",
              "      <td>Home Service</td>\n",
              "      <td>Miscellaneous Shop</td>\n",
              "      <td>Gym</td>\n",
              "    </tr>\n",
              "    <tr>\n",
              "      <th>210</th>\n",
              "      <td>Pasadena</td>\n",
              "      <td>77501</td>\n",
              "      <td>Spa</td>\n",
              "      <td>Bar</td>\n",
              "      <td>Restaurant</td>\n",
              "      <td>Pizza Place</td>\n",
              "      <td>Gas Station</td>\n",
              "      <td>Discount Store</td>\n",
              "      <td>Cosmetics Shop</td>\n",
              "    </tr>\n",
              "    <tr>\n",
              "      <th>212</th>\n",
              "      <td>Pasadena</td>\n",
              "      <td>77503</td>\n",
              "      <td>Baseball Field</td>\n",
              "      <td>Convenience Store</td>\n",
              "      <td>Automotive Shop</td>\n",
              "      <td>Bakery</td>\n",
              "      <td>Soccer Field</td>\n",
              "      <td>Video Store</td>\n",
              "      <td>Restaurant</td>\n",
              "    </tr>\n",
              "    <tr>\n",
              "      <th>214</th>\n",
              "      <td>Pasadena</td>\n",
              "      <td>77505</td>\n",
              "      <td>Cosmetics Shop</td>\n",
              "      <td>Restaurant</td>\n",
              "      <td>Coffee Shop</td>\n",
              "      <td>Mobile Phone Shop</td>\n",
              "      <td>Department Store</td>\n",
              "      <td>Clothing Store</td>\n",
              "      <td>Supplement Shop</td>\n",
              "    </tr>\n",
              "  </tbody>\n",
              "</table>\n",
              "<p>125 rows × 9 columns</p>\n",
              "</div>"
            ],
            "text/plain": [
              "         City  Zip_Code  ... 6th Most_Common_Venue 7th Most_Common_Venue\n",
              "5     Houston     77005  ...             Cafeteria            Taco Place\n",
              "14    Houston     77014  ...                Bakery     Convenience Store\n",
              "16    Houston     77016  ...     Other Repair Shop     Electronics Store\n",
              "17    Houston     77017  ...                Casino       Doctor's Office\n",
              "18    Houston     77018  ...          Liquor Store        Cosmetics Shop\n",
              "..        ...       ...  ...                   ...                   ...\n",
              "206      Katy     77492  ...        Discount Store        Cosmetics Shop\n",
              "207      Katy     77493  ...    Miscellaneous Shop                   Gym\n",
              "210  Pasadena     77501  ...        Discount Store        Cosmetics Shop\n",
              "212  Pasadena     77503  ...           Video Store            Restaurant\n",
              "214  Pasadena     77505  ...        Clothing Store       Supplement Shop\n",
              "\n",
              "[125 rows x 9 columns]"
            ]
          },
          "metadata": {
            "tags": []
          },
          "execution_count": 42
        }
      ]
    },
    {
      "cell_type": "code",
      "metadata": {
        "id": "T5bmEVPH_86c",
        "outputId": "4d8b0945-d125-4909-d19c-597842f9fac8",
        "colab": {
          "base_uri": "https://localhost:8080/",
          "height": 136
        }
      },
      "source": [
        "houston_sub_clust_1['City'].value_counts()"
      ],
      "execution_count": 43,
      "outputs": [
        {
          "output_type": "execute_result",
          "data": {
            "text/plain": [
              "Houston       108\n",
              "Spring          6\n",
              "Humble          4\n",
              "Katy            3\n",
              "Pasadena        3\n",
              "Sugar Land      1\n",
              "Name: City, dtype: int64"
            ]
          },
          "metadata": {
            "tags": []
          },
          "execution_count": 43
        }
      ]
    },
    {
      "cell_type": "code",
      "metadata": {
        "id": "3tyWn66gSWjG",
        "outputId": "3b442f9d-6845-4775-879f-27b66524d403",
        "colab": {
          "base_uri": "https://localhost:8080/",
          "height": 1000
        }
      },
      "source": [
        "# evaluate the frequency of the venues for the first 3 column\n",
        "print(houston_sub_clust_1['1st Most_Common_Venue'].value_counts())\n",
        "print(houston_sub_clust_1['2nd Most_Common_Venue'].value_counts())\n",
        "print(houston_sub_clust_1['3rd Most_Common_Venue'].value_counts())"
      ],
      "execution_count": 44,
      "outputs": [
        {
          "output_type": "stream",
          "text": [
            "Spa                  88\n",
            "Park                  5\n",
            "Restaurant            5\n",
            "Pizza Place           4\n",
            "Bar                   3\n",
            "Grocery Store         2\n",
            "Baseball Field        2\n",
            "Playground            2\n",
            "Tennis Court          1\n",
            "Scenic Lookout        1\n",
            "Clothing Store        1\n",
            "Burger Joint          1\n",
            "Snack Place           1\n",
            "Flea Market           1\n",
            "Cosmetics Shop        1\n",
            "River                 1\n",
            "Liquor Store          1\n",
            "Convenience Store     1\n",
            "Buffet                1\n",
            "Pharmacy              1\n",
            "Flower Shop           1\n",
            "Trail                 1\n",
            "Name: 1st Most_Common_Venue, dtype: int64\n",
            "Bar                           90\n",
            "Restaurant                     5\n",
            "Park                           3\n",
            "Cosmetics Shop                 3\n",
            "Pizza Place                    2\n",
            "Discount Store                 2\n",
            "Convenience Store              2\n",
            "Home Service                   2\n",
            "Tennis Court                   1\n",
            "Pharmacy                       1\n",
            "Music Venue                    1\n",
            "Smoke Shop                     1\n",
            "Medical Supply Store           1\n",
            "Grocery Store                  1\n",
            "Construction & Landscaping     1\n",
            "Theater                        1\n",
            "Liquor Store                   1\n",
            "Spa                            1\n",
            "Insurance Office               1\n",
            "Fried Chicken Joint            1\n",
            "Pool                           1\n",
            "Resort                         1\n",
            "Hotel                          1\n",
            "Gym                            1\n",
            "Name: 2nd Most_Common_Venue, dtype: int64\n",
            "Restaurant                       89\n",
            "Pet Store                         2\n",
            "Pizza Place                       2\n",
            "Spa                               2\n",
            "Fried Chicken Joint               2\n",
            "Bar                               2\n",
            "Baseball Field                    1\n",
            "Pharmacy                          1\n",
            "Brewery                           1\n",
            "Intersection                      1\n",
            "Park                              1\n",
            "Farmers Market                    1\n",
            "Coffee Shop                       1\n",
            "Burger Joint                      1\n",
            "Ice Cream Shop                    1\n",
            "Hobby Shop                        1\n",
            "Automotive Shop                   1\n",
            "Sandwich Place                    1\n",
            "Grocery Store                     1\n",
            "Movie Theater                     1\n",
            "Electronics Store                 1\n",
            "Gas Station                       1\n",
            "Convenience Store                 1\n",
            "Food                              1\n",
            "Pool                              1\n",
            "Paper / Office Supplies Store     1\n",
            "Construction & Landscaping        1\n",
            "Furniture / Home Store            1\n",
            "Hardware Store                    1\n",
            "Breakfast Spot                    1\n",
            "BBQ Joint                         1\n",
            "Lawyer                            1\n",
            "Name: 3rd Most_Common_Venue, dtype: int64\n"
          ],
          "name": "stdout"
        }
      ]
    },
    {
      "cell_type": "markdown",
      "metadata": {
        "id": "sJE9rD10BqXK"
      },
      "source": [
        "### Cluster-2"
      ]
    },
    {
      "cell_type": "code",
      "metadata": {
        "id": "6srQ2K70BqXL",
        "outputId": "d84eac3e-7d77-4328-8790-5e6434321a80",
        "colab": {
          "base_uri": "https://localhost:8080/",
          "height": 436
        }
      },
      "source": [
        "houston_sub_clust_2=houston_sub_clust_merged.loc[houston_sub_clust_merged['Cluster_Labels'] == 1, houston_sub_clust_merged.columns[[0] + list(range(4, houston_sub_clust_merged.shape[1]))]]\n",
        "houston_sub_clust_2"
      ],
      "execution_count": 45,
      "outputs": [
        {
          "output_type": "execute_result",
          "data": {
            "text/html": [
              "<div>\n",
              "<style scoped>\n",
              "    .dataframe tbody tr th:only-of-type {\n",
              "        vertical-align: middle;\n",
              "    }\n",
              "\n",
              "    .dataframe tbody tr th {\n",
              "        vertical-align: top;\n",
              "    }\n",
              "\n",
              "    .dataframe thead th {\n",
              "        text-align: right;\n",
              "    }\n",
              "</style>\n",
              "<table border=\"1\" class=\"dataframe\">\n",
              "  <thead>\n",
              "    <tr style=\"text-align: right;\">\n",
              "      <th></th>\n",
              "      <th>City</th>\n",
              "      <th>Zip_Code</th>\n",
              "      <th>1st Most_Common_Venue</th>\n",
              "      <th>2nd Most_Common_Venue</th>\n",
              "      <th>3rd Most_Common_Venue</th>\n",
              "      <th>4th Most_Common_Venue</th>\n",
              "      <th>5th Most_Common_Venue</th>\n",
              "      <th>6th Most_Common_Venue</th>\n",
              "      <th>7th Most_Common_Venue</th>\n",
              "    </tr>\n",
              "  </thead>\n",
              "  <tbody>\n",
              "    <tr>\n",
              "      <th>0</th>\n",
              "      <td>Houston</td>\n",
              "      <td>77000</td>\n",
              "      <td>Restaurant</td>\n",
              "      <td>Discount Store</td>\n",
              "      <td>Smoke Shop</td>\n",
              "      <td>Food Truck</td>\n",
              "      <td>Taco Place</td>\n",
              "      <td>Insurance Office</td>\n",
              "      <td>Lawyer</td>\n",
              "    </tr>\n",
              "    <tr>\n",
              "      <th>1</th>\n",
              "      <td>Houston</td>\n",
              "      <td>77001</td>\n",
              "      <td>Restaurant</td>\n",
              "      <td>Gas Station</td>\n",
              "      <td>Discount Store</td>\n",
              "      <td>Sandwich Place</td>\n",
              "      <td>Fried Chicken Joint</td>\n",
              "      <td>Department Store</td>\n",
              "      <td>Burger Joint</td>\n",
              "    </tr>\n",
              "    <tr>\n",
              "      <th>2</th>\n",
              "      <td>Houston</td>\n",
              "      <td>77002</td>\n",
              "      <td>Restaurant</td>\n",
              "      <td>Bar</td>\n",
              "      <td>Hotel</td>\n",
              "      <td>Gym</td>\n",
              "      <td>Park</td>\n",
              "      <td>Burger Joint</td>\n",
              "      <td>Pizza Place</td>\n",
              "    </tr>\n",
              "    <tr>\n",
              "      <th>3</th>\n",
              "      <td>Houston</td>\n",
              "      <td>77003</td>\n",
              "      <td>Restaurant</td>\n",
              "      <td>Bar</td>\n",
              "      <td>Pizza Place</td>\n",
              "      <td>Food Truck</td>\n",
              "      <td>Coffee Shop</td>\n",
              "      <td>Brewery</td>\n",
              "      <td>Soccer Stadium</td>\n",
              "    </tr>\n",
              "    <tr>\n",
              "      <th>4</th>\n",
              "      <td>Houston</td>\n",
              "      <td>77004</td>\n",
              "      <td>Restaurant</td>\n",
              "      <td>Food</td>\n",
              "      <td>Bar</td>\n",
              "      <td>Lounge</td>\n",
              "      <td>Theater</td>\n",
              "      <td>Food Service</td>\n",
              "      <td>Lawyer</td>\n",
              "    </tr>\n",
              "    <tr>\n",
              "      <th>...</th>\n",
              "      <td>...</td>\n",
              "      <td>...</td>\n",
              "      <td>...</td>\n",
              "      <td>...</td>\n",
              "      <td>...</td>\n",
              "      <td>...</td>\n",
              "      <td>...</td>\n",
              "      <td>...</td>\n",
              "      <td>...</td>\n",
              "    </tr>\n",
              "    <tr>\n",
              "      <th>202</th>\n",
              "      <td>Sugar Land</td>\n",
              "      <td>77478</td>\n",
              "      <td>Restaurant</td>\n",
              "      <td>Spa</td>\n",
              "      <td>Bank</td>\n",
              "      <td>Bar</td>\n",
              "      <td>Baseball Field</td>\n",
              "      <td>Sandwich Place</td>\n",
              "      <td>Discount Store</td>\n",
              "    </tr>\n",
              "    <tr>\n",
              "      <th>211</th>\n",
              "      <td>Pasadena</td>\n",
              "      <td>77502</td>\n",
              "      <td>Grocery Store</td>\n",
              "      <td>Restaurant</td>\n",
              "      <td>Farmers Market</td>\n",
              "      <td>Fried Chicken Joint</td>\n",
              "      <td>Theater</td>\n",
              "      <td>Ice Cream Shop</td>\n",
              "      <td>Taco Place</td>\n",
              "    </tr>\n",
              "    <tr>\n",
              "      <th>213</th>\n",
              "      <td>Pasadena</td>\n",
              "      <td>77504</td>\n",
              "      <td>Restaurant</td>\n",
              "      <td>Discount Store</td>\n",
              "      <td>Video Store</td>\n",
              "      <td>Gas Station</td>\n",
              "      <td>Bar</td>\n",
              "      <td>Bank</td>\n",
              "      <td>Music Store</td>\n",
              "    </tr>\n",
              "    <tr>\n",
              "      <th>215</th>\n",
              "      <td>Pasadena</td>\n",
              "      <td>77506</td>\n",
              "      <td>Restaurant</td>\n",
              "      <td>Home Service</td>\n",
              "      <td>Shoe Store</td>\n",
              "      <td>Convenience Store</td>\n",
              "      <td>Video Store</td>\n",
              "      <td>Snack Place</td>\n",
              "      <td>BBQ Joint</td>\n",
              "    </tr>\n",
              "    <tr>\n",
              "      <th>216</th>\n",
              "      <td>Pasadena</td>\n",
              "      <td>77508</td>\n",
              "      <td>Restaurant</td>\n",
              "      <td>Gym / Fitness Center</td>\n",
              "      <td>Pharmacy</td>\n",
              "      <td>Lawyer</td>\n",
              "      <td>Bank</td>\n",
              "      <td>Discount Store</td>\n",
              "      <td>Baseball Field</td>\n",
              "    </tr>\n",
              "  </tbody>\n",
              "</table>\n",
              "<p>75 rows × 9 columns</p>\n",
              "</div>"
            ],
            "text/plain": [
              "           City  Zip_Code  ... 6th Most_Common_Venue 7th Most_Common_Venue\n",
              "0       Houston     77000  ...      Insurance Office                Lawyer\n",
              "1       Houston     77001  ...      Department Store          Burger Joint\n",
              "2       Houston     77002  ...          Burger Joint           Pizza Place\n",
              "3       Houston     77003  ...               Brewery        Soccer Stadium\n",
              "4       Houston     77004  ...          Food Service                Lawyer\n",
              "..          ...       ...  ...                   ...                   ...\n",
              "202  Sugar Land     77478  ...        Sandwich Place        Discount Store\n",
              "211    Pasadena     77502  ...        Ice Cream Shop            Taco Place\n",
              "213    Pasadena     77504  ...                  Bank           Music Store\n",
              "215    Pasadena     77506  ...           Snack Place             BBQ Joint\n",
              "216    Pasadena     77508  ...        Discount Store        Baseball Field\n",
              "\n",
              "[75 rows x 9 columns]"
            ]
          },
          "metadata": {
            "tags": []
          },
          "execution_count": 45
        }
      ]
    },
    {
      "cell_type": "code",
      "metadata": {
        "id": "h7gCqnWnAv_n",
        "outputId": "c47b71b8-ccde-4205-d4a7-c0764859372e",
        "colab": {
          "base_uri": "https://localhost:8080/",
          "height": 136
        }
      },
      "source": [
        "houston_sub_clust_2['City'].value_counts()"
      ],
      "execution_count": 46,
      "outputs": [
        {
          "output_type": "execute_result",
          "data": {
            "text/plain": [
              "Houston       62\n",
              "Pasadena       4\n",
              "Spring         4\n",
              "Humble         2\n",
              "Katy           2\n",
              "Sugar Land     1\n",
              "Name: City, dtype: int64"
            ]
          },
          "metadata": {
            "tags": []
          },
          "execution_count": 46
        }
      ]
    },
    {
      "cell_type": "code",
      "metadata": {
        "id": "kigEVno7Ul-1",
        "outputId": "c55921f8-8a21-4fb1-93ef-2ccd089e43d7",
        "colab": {
          "base_uri": "https://localhost:8080/",
          "height": 1000
        }
      },
      "source": [
        "# evaluate the frequency of the venues for the first 3 column\n",
        "print(houston_sub_clust_2['1st Most_Common_Venue'].value_counts())\n",
        "print(houston_sub_clust_2['2nd Most_Common_Venue'].value_counts())\n",
        "print(houston_sub_clust_2['3rd Most_Common_Venue'].value_counts())"
      ],
      "execution_count": 47,
      "outputs": [
        {
          "output_type": "stream",
          "text": [
            "Restaurant             69\n",
            "Grocery Store           2\n",
            "Art Gallery             1\n",
            "Food                    1\n",
            "Rental Car Location     1\n",
            "Pizza Place             1\n",
            "Name: 1st Most_Common_Venue, dtype: int64\n",
            "Pizza Place                11\n",
            "Bar                         9\n",
            "Hotel                       6\n",
            "Discount Store              5\n",
            "Grocery Store               4\n",
            "Liquor Store                3\n",
            "Furniture / Home Store      2\n",
            "Department Store            2\n",
            "Coffee Shop                 2\n",
            "Shop & Service              2\n",
            "Food                        2\n",
            "Restaurant                  2\n",
            "Mobile Phone Shop           2\n",
            "Home Service                2\n",
            "Donut Shop                  1\n",
            "Fried Chicken Joint         1\n",
            "Intersection                1\n",
            "Science Museum              1\n",
            "Health & Beauty Service     1\n",
            "Gym / Fitness Center        1\n",
            "Ice Cream Shop              1\n",
            "Food Truck                  1\n",
            "Nightclub                   1\n",
            "Movie Theater               1\n",
            "Athletics & Sports          1\n",
            "Pharmacy                    1\n",
            "Gas Station                 1\n",
            "Smoothie Shop               1\n",
            "IT Services                 1\n",
            "Rental Car Location         1\n",
            "Spa                         1\n",
            "Concert Hall                1\n",
            "Steakhouse                  1\n",
            "Massage Studio              1\n",
            "Taco Place                  1\n",
            "Name: 2nd Most_Common_Venue, dtype: int64\n",
            "Bank                   4\n",
            "Discount Store         4\n",
            "Bar                    4\n",
            "Sandwich Place         4\n",
            "Pizza Place            4\n",
            "Pharmacy               4\n",
            "Burger Joint           3\n",
            "Hotel                  3\n",
            "Fried Chicken Joint    3\n",
            "Ice Cream Shop         2\n",
            "Grocery Store          2\n",
            "Shoe Store             2\n",
            "Coffee Shop            2\n",
            "Yoga Studio            2\n",
            "Dog Run                2\n",
            "Smoke Shop             1\n",
            "Video Store            1\n",
            "Bike Trail             1\n",
            "Gaming Cafe            1\n",
            "Bakery                 1\n",
            "Park                   1\n",
            "Spa                    1\n",
            "Farmers Market         1\n",
            "Pawn Shop              1\n",
            "Gym                    1\n",
            "Photography Studio     1\n",
            "Miscellaneous Shop     1\n",
            "Dentist's Office       1\n",
            "Restaurant             1\n",
            "Rental Car Location    1\n",
            "Bus Station            1\n",
            "Bubble Tea Shop        1\n",
            "Casino                 1\n",
            "Big Box Store          1\n",
            "Golf Course            1\n",
            "Gas Station            1\n",
            "Convenience Store      1\n",
            "Market                 1\n",
            "Cosmetics Shop         1\n",
            "Noodle House           1\n",
            "Airport Terminal       1\n",
            "Food Service           1\n",
            "Taco Place             1\n",
            "Tennis Court           1\n",
            "Pet Store              1\n",
            "Name: 3rd Most_Common_Venue, dtype: int64\n"
          ],
          "name": "stdout"
        }
      ]
    },
    {
      "cell_type": "markdown",
      "metadata": {
        "id": "JqngCXnABqXM"
      },
      "source": [
        "### Cluster-3"
      ]
    },
    {
      "cell_type": "code",
      "metadata": {
        "id": "je4-qIJhBqXN",
        "outputId": "6f1ccdf0-8404-4d35-afc5-9700f0ac30c0",
        "colab": {
          "base_uri": "https://localhost:8080/",
          "height": 142
        }
      },
      "source": [
        "houston_sub_clust_3=houston_sub_clust_merged.loc[houston_sub_clust_merged['Cluster_Labels'] == 2, houston_sub_clust_merged.columns[[0] + list(range(4, houston_sub_clust_merged.shape[1]))]]\n",
        "houston_sub_clust_3"
      ],
      "execution_count": 48,
      "outputs": [
        {
          "output_type": "execute_result",
          "data": {
            "text/html": [
              "<div>\n",
              "<style scoped>\n",
              "    .dataframe tbody tr th:only-of-type {\n",
              "        vertical-align: middle;\n",
              "    }\n",
              "\n",
              "    .dataframe tbody tr th {\n",
              "        vertical-align: top;\n",
              "    }\n",
              "\n",
              "    .dataframe thead th {\n",
              "        text-align: right;\n",
              "    }\n",
              "</style>\n",
              "<table border=\"1\" class=\"dataframe\">\n",
              "  <thead>\n",
              "    <tr style=\"text-align: right;\">\n",
              "      <th></th>\n",
              "      <th>City</th>\n",
              "      <th>Zip_Code</th>\n",
              "      <th>1st Most_Common_Venue</th>\n",
              "      <th>2nd Most_Common_Venue</th>\n",
              "      <th>3rd Most_Common_Venue</th>\n",
              "      <th>4th Most_Common_Venue</th>\n",
              "      <th>5th Most_Common_Venue</th>\n",
              "      <th>6th Most_Common_Venue</th>\n",
              "      <th>7th Most_Common_Venue</th>\n",
              "    </tr>\n",
              "  </thead>\n",
              "  <tbody>\n",
              "    <tr>\n",
              "      <th>68</th>\n",
              "      <td>Houston</td>\n",
              "      <td>77068</td>\n",
              "      <td>Golf Course</td>\n",
              "      <td>Lake</td>\n",
              "      <td>Arts &amp; Crafts Store</td>\n",
              "      <td>Advertising Agency</td>\n",
              "      <td>Pool</td>\n",
              "      <td>Discount Store</td>\n",
              "      <td>Doctor's Office</td>\n",
              "    </tr>\n",
              "    <tr>\n",
              "      <th>69</th>\n",
              "      <td>Houston</td>\n",
              "      <td>77069</td>\n",
              "      <td>Golf Course</td>\n",
              "      <td>Home Service</td>\n",
              "      <td>Yoga Studio</td>\n",
              "      <td>Escape Room</td>\n",
              "      <td>Doctor's Office</td>\n",
              "      <td>Dog Run</td>\n",
              "      <td>Donut Shop</td>\n",
              "    </tr>\n",
              "    <tr>\n",
              "      <th>196</th>\n",
              "      <td>Spring</td>\n",
              "      <td>77389</td>\n",
              "      <td>Pool</td>\n",
              "      <td>Golf Course</td>\n",
              "      <td>Yoga Studio</td>\n",
              "      <td>Electronics Store</td>\n",
              "      <td>Discount Store</td>\n",
              "      <td>Doctor's Office</td>\n",
              "      <td>Dog Run</td>\n",
              "    </tr>\n",
              "  </tbody>\n",
              "</table>\n",
              "</div>"
            ],
            "text/plain": [
              "        City  Zip_Code  ... 6th Most_Common_Venue 7th Most_Common_Venue\n",
              "68   Houston     77068  ...        Discount Store       Doctor's Office\n",
              "69   Houston     77069  ...               Dog Run            Donut Shop\n",
              "196   Spring     77389  ...       Doctor's Office               Dog Run\n",
              "\n",
              "[3 rows x 9 columns]"
            ]
          },
          "metadata": {
            "tags": []
          },
          "execution_count": 48
        }
      ]
    },
    {
      "cell_type": "markdown",
      "metadata": {
        "id": "ZgXfX9w-BqXQ"
      },
      "source": [
        "### Cluster-4"
      ]
    },
    {
      "cell_type": "code",
      "metadata": {
        "id": "rKF9wDqdBqXQ",
        "outputId": "4c03589b-e5d1-4a6c-f1e8-6412b2b833b3",
        "colab": {
          "base_uri": "https://localhost:8080/",
          "height": 529
        }
      },
      "source": [
        "houston_sub_clust_4=houston_sub_clust_merged.loc[houston_sub_clust_merged['Cluster_Labels'] == 3, houston_sub_clust_merged.columns[[0] + list(range(4, houston_sub_clust_merged.shape[1]))]]\n",
        "houston_sub_clust_4"
      ],
      "execution_count": 49,
      "outputs": [
        {
          "output_type": "execute_result",
          "data": {
            "text/html": [
              "<div>\n",
              "<style scoped>\n",
              "    .dataframe tbody tr th:only-of-type {\n",
              "        vertical-align: middle;\n",
              "    }\n",
              "\n",
              "    .dataframe tbody tr th {\n",
              "        vertical-align: top;\n",
              "    }\n",
              "\n",
              "    .dataframe thead th {\n",
              "        text-align: right;\n",
              "    }\n",
              "</style>\n",
              "<table border=\"1\" class=\"dataframe\">\n",
              "  <thead>\n",
              "    <tr style=\"text-align: right;\">\n",
              "      <th></th>\n",
              "      <th>City</th>\n",
              "      <th>Zip_Code</th>\n",
              "      <th>1st Most_Common_Venue</th>\n",
              "      <th>2nd Most_Common_Venue</th>\n",
              "      <th>3rd Most_Common_Venue</th>\n",
              "      <th>4th Most_Common_Venue</th>\n",
              "      <th>5th Most_Common_Venue</th>\n",
              "      <th>6th Most_Common_Venue</th>\n",
              "      <th>7th Most_Common_Venue</th>\n",
              "    </tr>\n",
              "  </thead>\n",
              "  <tbody>\n",
              "    <tr>\n",
              "      <th>24</th>\n",
              "      <td>Houston</td>\n",
              "      <td>77024</td>\n",
              "      <td>Construction &amp; Landscaping</td>\n",
              "      <td>Coffee Shop</td>\n",
              "      <td>Ice Cream Shop</td>\n",
              "      <td>Clothing Store</td>\n",
              "      <td>Business Service</td>\n",
              "      <td>Eye Doctor</td>\n",
              "      <td>Fabric Shop</td>\n",
              "    </tr>\n",
              "    <tr>\n",
              "      <th>28</th>\n",
              "      <td>Houston</td>\n",
              "      <td>77028</td>\n",
              "      <td>Fried Chicken Joint</td>\n",
              "      <td>Construction &amp; Landscaping</td>\n",
              "      <td>Convenience Store</td>\n",
              "      <td>Food</td>\n",
              "      <td>Burger Joint</td>\n",
              "      <td>Restaurant</td>\n",
              "      <td>Yoga Studio</td>\n",
              "    </tr>\n",
              "    <tr>\n",
              "      <th>29</th>\n",
              "      <td>Houston</td>\n",
              "      <td>77029</td>\n",
              "      <td>Platform</td>\n",
              "      <td>Construction &amp; Landscaping</td>\n",
              "      <td>Moving Target</td>\n",
              "      <td>Disc Golf</td>\n",
              "      <td>Farmers Market</td>\n",
              "      <td>Fabric Shop</td>\n",
              "      <td>Eye Doctor</td>\n",
              "    </tr>\n",
              "    <tr>\n",
              "      <th>47</th>\n",
              "      <td>Houston</td>\n",
              "      <td>77047</td>\n",
              "      <td>Construction &amp; Landscaping</td>\n",
              "      <td>Dog Run</td>\n",
              "      <td>Restaurant</td>\n",
              "      <td>Home Service</td>\n",
              "      <td>Fried Chicken Joint</td>\n",
              "      <td>Hotel</td>\n",
              "      <td>Park</td>\n",
              "    </tr>\n",
              "    <tr>\n",
              "      <th>67</th>\n",
              "      <td>Houston</td>\n",
              "      <td>77067</td>\n",
              "      <td>Construction &amp; Landscaping</td>\n",
              "      <td>Food</td>\n",
              "      <td>Gas Station</td>\n",
              "      <td>Home Service</td>\n",
              "      <td>Convenience Store</td>\n",
              "      <td>Restaurant</td>\n",
              "      <td>Business Service</td>\n",
              "    </tr>\n",
              "    <tr>\n",
              "      <th>91</th>\n",
              "      <td>Houston</td>\n",
              "      <td>77091</td>\n",
              "      <td>Moving Target</td>\n",
              "      <td>Construction &amp; Landscaping</td>\n",
              "      <td>Rest Area</td>\n",
              "      <td>Burger Joint</td>\n",
              "      <td>Rental Service</td>\n",
              "      <td>Electronics Store</td>\n",
              "      <td>Dog Run</td>\n",
              "    </tr>\n",
              "    <tr>\n",
              "      <th>199</th>\n",
              "      <td>Humble</td>\n",
              "      <td>77396</td>\n",
              "      <td>Fried Chicken Joint</td>\n",
              "      <td>Convenience Store</td>\n",
              "      <td>Breakfast Spot</td>\n",
              "      <td>Gym</td>\n",
              "      <td>Moving Target</td>\n",
              "      <td>Yoga Studio</td>\n",
              "      <td>Donut Shop</td>\n",
              "    </tr>\n",
              "    <tr>\n",
              "      <th>204</th>\n",
              "      <td>Sugar Land</td>\n",
              "      <td>77487</td>\n",
              "      <td>Park</td>\n",
              "      <td>Construction &amp; Landscaping</td>\n",
              "      <td>Burrito Place</td>\n",
              "      <td>Yoga Studio</td>\n",
              "      <td>Dog Run</td>\n",
              "      <td>Donut Shop</td>\n",
              "      <td>Dry Cleaner</td>\n",
              "    </tr>\n",
              "    <tr>\n",
              "      <th>208</th>\n",
              "      <td>Katy</td>\n",
              "      <td>77494</td>\n",
              "      <td>Construction &amp; Landscaping</td>\n",
              "      <td>Athletics &amp; Sports</td>\n",
              "      <td>Public Art</td>\n",
              "      <td>Yoga Studio</td>\n",
              "      <td>Escape Room</td>\n",
              "      <td>Dog Run</td>\n",
              "      <td>Donut Shop</td>\n",
              "    </tr>\n",
              "    <tr>\n",
              "      <th>209</th>\n",
              "      <td>Sugar Land</td>\n",
              "      <td>77496</td>\n",
              "      <td>Park</td>\n",
              "      <td>Construction &amp; Landscaping</td>\n",
              "      <td>Burrito Place</td>\n",
              "      <td>Yoga Studio</td>\n",
              "      <td>Dog Run</td>\n",
              "      <td>Donut Shop</td>\n",
              "      <td>Dry Cleaner</td>\n",
              "    </tr>\n",
              "  </tbody>\n",
              "</table>\n",
              "</div>"
            ],
            "text/plain": [
              "           City  Zip_Code  ... 6th Most_Common_Venue 7th Most_Common_Venue\n",
              "24      Houston     77024  ...            Eye Doctor           Fabric Shop\n",
              "28      Houston     77028  ...            Restaurant           Yoga Studio\n",
              "29      Houston     77029  ...           Fabric Shop            Eye Doctor\n",
              "47      Houston     77047  ...                 Hotel                  Park\n",
              "67      Houston     77067  ...            Restaurant      Business Service\n",
              "91      Houston     77091  ...     Electronics Store               Dog Run\n",
              "199      Humble     77396  ...           Yoga Studio            Donut Shop\n",
              "204  Sugar Land     77487  ...            Donut Shop           Dry Cleaner\n",
              "208        Katy     77494  ...               Dog Run            Donut Shop\n",
              "209  Sugar Land     77496  ...            Donut Shop           Dry Cleaner\n",
              "\n",
              "[10 rows x 9 columns]"
            ]
          },
          "metadata": {
            "tags": []
          },
          "execution_count": 49
        }
      ]
    },
    {
      "cell_type": "code",
      "metadata": {
        "id": "91WddGhEBaaV",
        "outputId": "33cb1e49-66a1-478f-88d7-300231d2747f",
        "colab": {
          "base_uri": "https://localhost:8080/",
          "height": 102
        }
      },
      "source": [
        "houston_sub_clust_4['City'].value_counts()"
      ],
      "execution_count": 50,
      "outputs": [
        {
          "output_type": "execute_result",
          "data": {
            "text/plain": [
              "Houston       6\n",
              "Sugar Land    2\n",
              "Humble        1\n",
              "Katy          1\n",
              "Name: City, dtype: int64"
            ]
          },
          "metadata": {
            "tags": []
          },
          "execution_count": 50
        }
      ]
    },
    {
      "cell_type": "code",
      "metadata": {
        "id": "XEBVsURHVgYz",
        "outputId": "0c4e1843-6c2d-4fcf-f752-81bc8e6be300",
        "colab": {
          "base_uri": "https://localhost:8080/",
          "height": 408
        }
      },
      "source": [
        "# evaluate the frequency of the venues for the first 3 columns\n",
        "print(houston_sub_clust_4['1st Most_Common_Venue'].value_counts())\n",
        "print(houston_sub_clust_4['2nd Most_Common_Venue'].value_counts())\n",
        "print(houston_sub_clust_4['3rd Most_Common_Venue'].value_counts())"
      ],
      "execution_count": 51,
      "outputs": [
        {
          "output_type": "stream",
          "text": [
            "Construction & Landscaping    4\n",
            "Fried Chicken Joint           2\n",
            "Park                          2\n",
            "Platform                      1\n",
            "Moving Target                 1\n",
            "Name: 1st Most_Common_Venue, dtype: int64\n",
            "Construction & Landscaping    5\n",
            "Dog Run                       1\n",
            "Food                          1\n",
            "Athletics & Sports            1\n",
            "Convenience Store             1\n",
            "Coffee Shop                   1\n",
            "Name: 2nd Most_Common_Venue, dtype: int64\n",
            "Burrito Place        2\n",
            "Moving Target        1\n",
            "Restaurant           1\n",
            "Convenience Store    1\n",
            "Gas Station          1\n",
            "Rest Area            1\n",
            "Ice Cream Shop       1\n",
            "Public Art           1\n",
            "Breakfast Spot       1\n",
            "Name: 3rd Most_Common_Venue, dtype: int64\n"
          ],
          "name": "stdout"
        }
      ]
    },
    {
      "cell_type": "markdown",
      "metadata": {
        "id": "OUyxlOp5BqXS"
      },
      "source": [
        "### Cluster-5"
      ]
    },
    {
      "cell_type": "code",
      "metadata": {
        "id": "-GPGbA3WBqXT",
        "outputId": "78c1b5e0-e615-4a02-8e49-2777a8c14a94",
        "colab": {
          "base_uri": "https://localhost:8080/",
          "height": 142
        }
      },
      "source": [
        "houston_sub_clust_5=houston_sub_clust_merged.loc[houston_sub_clust_merged['Cluster_Labels'] == 4, houston_sub_clust_merged.columns[[0] + list(range(4, houston_sub_clust_merged.shape[1]))]]\n",
        "houston_sub_clust_5"
      ],
      "execution_count": 52,
      "outputs": [
        {
          "output_type": "execute_result",
          "data": {
            "text/html": [
              "<div>\n",
              "<style scoped>\n",
              "    .dataframe tbody tr th:only-of-type {\n",
              "        vertical-align: middle;\n",
              "    }\n",
              "\n",
              "    .dataframe tbody tr th {\n",
              "        vertical-align: top;\n",
              "    }\n",
              "\n",
              "    .dataframe thead th {\n",
              "        text-align: right;\n",
              "    }\n",
              "</style>\n",
              "<table border=\"1\" class=\"dataframe\">\n",
              "  <thead>\n",
              "    <tr style=\"text-align: right;\">\n",
              "      <th></th>\n",
              "      <th>City</th>\n",
              "      <th>Zip_Code</th>\n",
              "      <th>1st Most_Common_Venue</th>\n",
              "      <th>2nd Most_Common_Venue</th>\n",
              "      <th>3rd Most_Common_Venue</th>\n",
              "      <th>4th Most_Common_Venue</th>\n",
              "      <th>5th Most_Common_Venue</th>\n",
              "      <th>6th Most_Common_Venue</th>\n",
              "      <th>7th Most_Common_Venue</th>\n",
              "    </tr>\n",
              "  </thead>\n",
              "  <tbody>\n",
              "    <tr>\n",
              "      <th>50</th>\n",
              "      <td>Houston</td>\n",
              "      <td>77050</td>\n",
              "      <td>Home Service</td>\n",
              "      <td>Yoga Studio</td>\n",
              "      <td>Discount Store</td>\n",
              "      <td>Financial or Legal Service</td>\n",
              "      <td>Field</td>\n",
              "      <td>Farmers Market</td>\n",
              "      <td>Fabric Shop</td>\n",
              "    </tr>\n",
              "    <tr>\n",
              "      <th>73</th>\n",
              "      <td>Houston</td>\n",
              "      <td>77073</td>\n",
              "      <td>Home Service</td>\n",
              "      <td>Park</td>\n",
              "      <td>Yoga Studio</td>\n",
              "      <td>Escape Room</td>\n",
              "      <td>Doctor's Office</td>\n",
              "      <td>Dog Run</td>\n",
              "      <td>Donut Shop</td>\n",
              "    </tr>\n",
              "    <tr>\n",
              "      <th>194</th>\n",
              "      <td>Spring</td>\n",
              "      <td>77387</td>\n",
              "      <td>Boat or Ferry</td>\n",
              "      <td>Home Service</td>\n",
              "      <td>Event Service</td>\n",
              "      <td>Doctor's Office</td>\n",
              "      <td>Dog Run</td>\n",
              "      <td>Donut Shop</td>\n",
              "      <td>Dry Cleaner</td>\n",
              "    </tr>\n",
              "  </tbody>\n",
              "</table>\n",
              "</div>"
            ],
            "text/plain": [
              "        City  Zip_Code  ... 6th Most_Common_Venue 7th Most_Common_Venue\n",
              "50   Houston     77050  ...        Farmers Market           Fabric Shop\n",
              "73   Houston     77073  ...               Dog Run            Donut Shop\n",
              "194   Spring     77387  ...            Donut Shop           Dry Cleaner\n",
              "\n",
              "[3 rows x 9 columns]"
            ]
          },
          "metadata": {
            "tags": []
          },
          "execution_count": 52
        }
      ]
    },
    {
      "cell_type": "markdown",
      "metadata": {
        "id": "nroc55EIBRWd"
      },
      "source": [
        "### Cluster-6"
      ]
    },
    {
      "cell_type": "code",
      "metadata": {
        "id": "b3aGgBmqBqXW",
        "outputId": "43c10b69-4a1b-4e61-d555-aecf9c8854c3",
        "colab": {
          "base_uri": "https://localhost:8080/",
          "height": 80
        }
      },
      "source": [
        "houston_sub_clust_6=houston_sub_clust_merged.loc[houston_sub_clust_merged['Cluster_Labels'] == 5, houston_sub_clust_merged.columns[[0] + list(range(4, houston_sub_clust_merged.shape[1]))]]\n",
        "houston_sub_clust_6"
      ],
      "execution_count": 53,
      "outputs": [
        {
          "output_type": "execute_result",
          "data": {
            "text/html": [
              "<div>\n",
              "<style scoped>\n",
              "    .dataframe tbody tr th:only-of-type {\n",
              "        vertical-align: middle;\n",
              "    }\n",
              "\n",
              "    .dataframe tbody tr th {\n",
              "        vertical-align: top;\n",
              "    }\n",
              "\n",
              "    .dataframe thead th {\n",
              "        text-align: right;\n",
              "    }\n",
              "</style>\n",
              "<table border=\"1\" class=\"dataframe\">\n",
              "  <thead>\n",
              "    <tr style=\"text-align: right;\">\n",
              "      <th></th>\n",
              "      <th>City</th>\n",
              "      <th>Zip_Code</th>\n",
              "      <th>1st Most_Common_Venue</th>\n",
              "      <th>2nd Most_Common_Venue</th>\n",
              "      <th>3rd Most_Common_Venue</th>\n",
              "      <th>4th Most_Common_Venue</th>\n",
              "      <th>5th Most_Common_Venue</th>\n",
              "      <th>6th Most_Common_Venue</th>\n",
              "      <th>7th Most_Common_Venue</th>\n",
              "    </tr>\n",
              "  </thead>\n",
              "  <tbody>\n",
              "    <tr>\n",
              "      <th>94</th>\n",
              "      <td>Houston</td>\n",
              "      <td>77094</td>\n",
              "      <td>Park</td>\n",
              "      <td>Yoga Studio</td>\n",
              "      <td>Disc Golf</td>\n",
              "      <td>Field</td>\n",
              "      <td>Farmers Market</td>\n",
              "      <td>Fabric Shop</td>\n",
              "      <td>Eye Doctor</td>\n",
              "    </tr>\n",
              "  </tbody>\n",
              "</table>\n",
              "</div>"
            ],
            "text/plain": [
              "       City  Zip_Code  ... 6th Most_Common_Venue 7th Most_Common_Venue\n",
              "94  Houston     77094  ...           Fabric Shop            Eye Doctor\n",
              "\n",
              "[1 rows x 9 columns]"
            ]
          },
          "metadata": {
            "tags": []
          },
          "execution_count": 53
        }
      ]
    }
  ]
}